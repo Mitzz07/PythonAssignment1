{
 "cells": [
  {
   "cell_type": "markdown",
   "id": "5d59eda4",
   "metadata": {},
   "source": [
    "QUE 1 Write a Python program to convert kilometers to miles."
   ]
  },
  {
   "cell_type": "code",
   "execution_count": 3,
   "id": "9d4048ed",
   "metadata": {},
   "outputs": [
    {
     "name": "stdout",
     "output_type": "stream",
     "text": [
      "Enter a value in kilometers= 12\n",
      "12.0 km is equal to 7.4556 miles\n"
     ]
    }
   ],
   "source": [
    "Km = float(input(\"Enter a value in kilometers= \"))\n",
    "\n",
    "#conversion factor from km to miles \n",
    "cf= 0.6213\n",
    "\n",
    "Miles = Km * cf\n",
    "print(\"{} km is equal to {} miles\".format(Km,Miles))om"
   ]
  },
  {
   "cell_type": "markdown",
   "id": "0ef7a0ab",
   "metadata": {},
   "source": [
    "QUE 2. Write a Python program to convert Celsius to Fahrenheit. "
   ]
  },
  {
   "cell_type": "code",
   "execution_count": 4,
   "id": "768eae4a",
   "metadata": {},
   "outputs": [
    {
     "name": "stdout",
     "output_type": "stream",
     "text": [
      "Enter a value in Celcius= 25\n",
      "25 degree Celcius is equal to 77.0 Fahrenheit\n"
     ]
    }
   ],
   "source": [
    "Celcius= int(input(\"Enter a value in Celcius= \"))\n",
    "\n",
    "#To convert Celcius to Fahrenheit, multiply by 1.8 and then add 32.\n",
    "\n",
    "Fahrenheit= (Celcius * 1.8) + 32\n",
    "print(\"{} degree Celcius is equal to {} Fahrenheit\".format(Celcius, Fahrenheit))"
   ]
  },
  {
   "cell_type": "markdown",
   "id": "3c4f1fc7",
   "metadata": {},
   "source": [
    "QUE 3. Write a Python program to display calendar?"
   ]
  },
  {
   "cell_type": "code",
   "execution_count": 11,
   "id": "bdb604c3",
   "metadata": {},
   "outputs": [
    {
     "name": "stdout",
     "output_type": "stream",
     "text": [
      "Enter current Year = 2022\n",
      "Enter current Month = 08\n",
      "    August 2022\n",
      "Mo Tu We Th Fr Sa Su\n",
      " 1  2  3  4  5  6  7\n",
      " 8  9 10 11 12 13 14\n",
      "15 16 17 18 19 20 21\n",
      "22 23 24 25 26 27 28\n",
      "29 30 31\n",
      "\n"
     ]
    }
   ],
   "source": [
    "import calendar\n",
    "\n",
    "year= int(input(\"Enter current Year = \"))\n",
    "Month = int(input(\"Enter current Month = \"))\n",
    "\n",
    "print(calendar.month(year,Month))"
   ]
  },
  {
   "cell_type": "markdown",
   "id": "5cca2b95",
   "metadata": {},
   "source": [
    "QUE 4. Write a Python program to solve quadratic equation?"
   ]
  },
  {
   "cell_type": "code",
   "execution_count": 17,
   "id": "f88163d5",
   "metadata": {},
   "outputs": [
    {
     "name": "stdout",
     "output_type": "stream",
     "text": [
      "a is 1\n",
      "b is 5\n",
      "c is 6\n",
      "Solutions of the equation are (-2+0j) and (-3+0j)\n"
     ]
    }
   ],
   "source": [
    "import cmath\n",
    "\n",
    "a=int(input(\"a is \"))\n",
    "b=int(input(\"b is \"))\n",
    "c=int(input(\"c is \"))\n",
    "\n",
    "#for discriminant,\n",
    "d= b**2 - 4*a*c\n",
    "\n",
    "#By formula method\n",
    "Sol1= (-b + cmath.sqrt(d))/2*a\n",
    "Sol2= (-b - cmath.sqrt(d))/2*a\n",
    "\n",
    "print(\"Solutions of the equation are {} and {}\".format(Sol1,Sol2))"
   ]
  },
  {
   "cell_type": "markdown",
   "id": "e00aa187",
   "metadata": {},
   "source": [
    "OR"
   ]
  },
  {
   "cell_type": "code",
   "execution_count": 16,
   "id": "53232f8d",
   "metadata": {},
   "outputs": [
    {
     "name": "stdout",
     "output_type": "stream",
     "text": [
      "a is 1\n",
      "b is 5\n",
      "c is 6\n",
      "Solutions of the equation are -2.0 and -3.0\n"
     ]
    }
   ],
   "source": [
    "a=int(input(\"a is \"))\n",
    "b=int(input(\"b is \"))\n",
    "c=int(input(\"c is \"))\n",
    "\n",
    "#for discriminant,\n",
    "d= b**2 - 4*a*c\n",
    "\n",
    "#By formula method\n",
    "Sol1= (-b + d**(1/2))/2*a\n",
    "Sol2= (-b - d**(1/2))/2*a\n",
    "\n",
    "print(\"Solutions of the equation are {} and {}\".format(Sol1,Sol2))"
   ]
  },
  {
   "cell_type": "markdown",
   "id": "196f3cba",
   "metadata": {},
   "source": [
    "QUE 5. Write a Python program to swap two variables without temp variable?"
   ]
  },
  {
   "cell_type": "code",
   "execution_count": 18,
   "id": "d7b91c62",
   "metadata": {},
   "outputs": [
    {
     "name": "stdout",
     "output_type": "stream",
     "text": [
      "Enter 1st no = 2\n",
      "Enter 2nd no = 4\n",
      "After swapping a and b , we get a=4,b=2\n"
     ]
    }
   ],
   "source": [
    "a=int(input(\"Enter 1st no = \"))\n",
    "b=int(input(\"Enter 2nd no = \"))\n",
    "\n",
    "a,b=b,a\n",
    "\n",
    "print(\"After swapping a and b , we get a={},b={}\".format(a,b))"
   ]
  }
 ],
 "metadata": {
  "kernelspec": {
   "display_name": "Python 3 (ipykernel)",
   "language": "python",
   "name": "python3"
  },
  "language_info": {
   "codemirror_mode": {
    "name": "ipython",
    "version": 3
   },
   "file_extension": ".py",
   "mimetype": "text/x-python",
   "name": "python",
   "nbconvert_exporter": "python",
   "pygments_lexer": "ipython3",
   "version": "3.9.7"
  }
 },
 "nbformat": 4,
 "nbformat_minor": 5
}
