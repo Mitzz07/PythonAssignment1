{
 "cells": [
  {
   "cell_type": "code",
   "execution_count": 6,
   "id": "71cdfcee",
   "metadata": {},
   "outputs": [
    {
     "name": "stdout",
     "output_type": "stream",
     "text": [
      "Enter 1st no: 20\n",
      "Enter 2nd no: 25\n",
      "LCM of 20 and 25 is 100\n"
     ]
    }
   ],
   "source": [
    "#Que 1) Write a Python Program to Find LCM?\n",
    "\n",
    "num1 = int(input(\"Enter 1st no: \"))\n",
    "num2 = int(input(\"Enter 2nd no: \"))\n",
    "\n",
    "for i in range(max(num1, num2), 1 + (num1 * num2)):\n",
    "    if i % num1 ==0 and i % num2 == 0:\n",
    "        lcm = i\n",
    "        break\n",
    "print(\"LCM of\", num1, \"and\", num2, \"is\", lcm)"
   ]
  },
  {
   "cell_type": "code",
   "execution_count": 7,
   "id": "eb4a1d26",
   "metadata": {},
   "outputs": [
    {
     "name": "stdout",
     "output_type": "stream",
     "text": [
      "Enter 1st no: 20\n",
      "Enter 2nd no: 22\n",
      "Hcf of 20 and 22 is 2\n"
     ]
    }
   ],
   "source": [
    "#Que2) Write a Python Program to Find HCF?\n",
    "\n",
    "num1 = int(input(\"Enter 1st no: \"))\n",
    "num2 = int(input(\"Enter 2nd no: \"))\n",
    "\n",
    "hcf = 1\n",
    "\n",
    "for i in range(1, min(num1, num2)):\n",
    "    if num1 % i == 0 and num2 % i == 0:\n",
    "        hcf = i\n",
    "print(\"Hcf of\", num1, \"and\", num2, \"is\", hcf)"
   ]
  },
  {
   "cell_type": "code",
   "execution_count": 11,
   "id": "5df646c5",
   "metadata": {},
   "outputs": [
    {
     "name": "stdout",
     "output_type": "stream",
     "text": [
      "266\n",
      "Binary of Decimal 266 is 0b100001010\n",
      "Octal of Decimal 266 is 0o412\n",
      "Hexadecimal of Decimal 266 is 0x10a\n"
     ]
    }
   ],
   "source": [
    "#Que3) Write a Python Program to Convert Decimal to Binary, Octal and Hexadecimal?\n",
    "\n",
    "a=int(input())\n",
    "\n",
    "print(\"Binary of Decimal\",a,\"is\",bin(a))\n",
    "print(\"Octal of Decimal\",a,\"is\",oct(a))\n",
    "print(\"Hexadecimal of Decimal\",a,\"is\",hex(a))\n"
   ]
  },
  {
   "cell_type": "code",
   "execution_count": 13,
   "id": "d4a3da68",
   "metadata": {},
   "outputs": [
    {
     "name": "stdout",
     "output_type": "stream",
     "text": [
      "Enter any character : f\n",
      "ASCII value of character  f is 102\n"
     ]
    }
   ],
   "source": [
    "#Que4)  Write a Python Program To Find ASCII value of a character?\n",
    "\n",
    "#American Standard Code for Information Interchange.\n",
    "\n",
    "a=input(\"Enter any character : \")\n",
    "\n",
    "print(\"ASCII value of character \", a, \"is\", ord(a))"
   ]
  },
  {
   "cell_type": "code",
   "execution_count": 18,
   "id": "e64546c5",
   "metadata": {},
   "outputs": [
    {
     "name": "stdout",
     "output_type": "stream",
     "text": [
      "Select operator from the below\n",
      "+\n",
      "-\n",
      "*\n",
      "/\n",
      "Select operator : *\n",
      "Enter 1st no  : 34\n",
      "Enter 2nd no :  2\n",
      "68.0\n"
     ]
    }
   ],
   "source": [
    "#Que5)  Write a Python Program to Make a Simple Calculator with 4 basic mathematical operations?\n",
    "\n",
    "print(\"Select operator from the below\")\n",
    "print(\"+\")\n",
    "print(\"-\")\n",
    "print(\"*\")\n",
    "print(\"/\")\n",
    "\n",
    "operation = input(\"Select operator : \")\n",
    "num1 = float(input(\"Enter 1st no  : \"))\n",
    "num2 = float(input(\"Enter 2nd no :  \"))\n",
    "\n",
    "if operation== '+' :\n",
    "    print(num1 + num2)\n",
    "elif operation== '-':\n",
    "    print(num1 - num2)\n",
    "elif operation == '*' :\n",
    "    print(num1 * num2)\n",
    "elif operation == '/' :\n",
    "    print(num1 / num2)\n",
    "else:\n",
    "    print(\"You have enter invalid operator\")"
   ]
  }
 ],
 "metadata": {
  "kernelspec": {
   "display_name": "Python 3 (ipykernel)",
   "language": "python",
   "name": "python3"
  },
  "language_info": {
   "codemirror_mode": {
    "name": "ipython",
    "version": 3
   },
   "file_extension": ".py",
   "mimetype": "text/x-python",
   "name": "python",
   "nbconvert_exporter": "python",
   "pygments_lexer": "ipython3",
   "version": "3.9.12"
  }
 },
 "nbformat": 4,
 "nbformat_minor": 5
}
