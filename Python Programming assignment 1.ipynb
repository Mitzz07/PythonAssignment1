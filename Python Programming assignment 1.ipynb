{
 "cells": [
  {
   "cell_type": "markdown",
   "id": "bd8310a8",
   "metadata": {},
   "source": [
    "QUE 1. Write a Python program to print \"Hello Python\" ."
   ]
  },
  {
   "cell_type": "code",
   "execution_count": 1,
   "id": "179f9153",
   "metadata": {},
   "outputs": [
    {
     "name": "stdout",
     "output_type": "stream",
     "text": [
      "Hello Python\n"
     ]
    }
   ],
   "source": [
    "A = print(\"Hello Python\")\n",
    "A"
   ]
  },
  {
   "cell_type": "markdown",
   "id": "6927a598",
   "metadata": {},
   "source": [
    "QUE 2. Write a Python program to do arithmetical operations addition and division.?"
   ]
  },
  {
   "cell_type": "code",
   "execution_count": 2,
   "id": "e5e8e001",
   "metadata": {},
   "outputs": [
    {
     "name": "stdout",
     "output_type": "stream",
     "text": [
      "100\n"
     ]
    }
   ],
   "source": [
    "a = 71\n",
    "b = 29\n",
    "c = a+b\n",
    "print(c)"
   ]
  },
  {
   "cell_type": "code",
   "execution_count": 3,
   "id": "ca2ecf15",
   "metadata": {},
   "outputs": [
    {
     "name": "stdout",
     "output_type": "stream",
     "text": [
      "20.0\n"
     ]
    }
   ],
   "source": [
    "a = 500\n",
    "b = 25\n",
    "c = a/b\n",
    "print(c)"
   ]
  },
  {
   "cell_type": "markdown",
   "id": "1ecb8ccd",
   "metadata": {},
   "source": [
    "QUE 3. Write a Python program to find the area of a triangle\n",
    "\n",
    "Area of Triangle = 1/2 * base * height"
   ]
  },
  {
   "cell_type": "code",
   "execution_count": 5,
   "id": "dacf31db",
   "metadata": {},
   "outputs": [
    {
     "name": "stdout",
     "output_type": "stream",
     "text": [
      "300.0\n"
     ]
    }
   ],
   "source": [
    "base = 30\n",
    "height= 20\n",
    "Area = 1/2 * base * height\n",
    "print(Area)"
   ]
  },
  {
   "cell_type": "markdown",
   "id": "b6d98f76",
   "metadata": {},
   "source": [
    "QUE 4. Write a Python program to swap two variables?"
   ]
  },
  {
   "cell_type": "code",
   "execution_count": 11,
   "id": "fa069166",
   "metadata": {},
   "outputs": [
    {
     "name": "stdout",
     "output_type": "stream",
     "text": [
      "Value of x after swapping is 20 \n",
      "Value of y after swapping is 10 \n"
     ]
    }
   ],
   "source": [
    "x = 10\n",
    "y = 20\n",
    "\n",
    "# let  A be a temporary variable for swapping\n",
    "A=x\n",
    "x=y\n",
    "y=A\n",
    "\n",
    "print(\"Value of x after swapping is {} \".format(x))\n",
    "print(\"Value of y after swapping is {} \".format(y))"
   ]
  },
  {
   "cell_type": "markdown",
   "id": "4975695f",
   "metadata": {},
   "source": [
    "QUE 5. Write a Python program to generate a random number?\n",
    "\n",
    "First we have to import random function followed bya simple command as follows..."
   ]
  },
  {
   "cell_type": "code",
   "execution_count": 15,
   "id": "a927309c",
   "metadata": {},
   "outputs": [
    {
     "data": {
      "text/plain": [
       "4"
      ]
     },
     "execution_count": 15,
     "metadata": {},
     "output_type": "execute_result"
    }
   ],
   "source": [
    "import random\n",
    "random.randint(1,11)"
   ]
  }
 ],
 "metadata": {
  "kernelspec": {
   "display_name": "Python 3 (ipykernel)",
   "language": "python",
   "name": "python3"
  },
  "language_info": {
   "codemirror_mode": {
    "name": "ipython",
    "version": 3
   },
   "file_extension": ".py",
   "mimetype": "text/x-python",
   "name": "python",
   "nbconvert_exporter": "python",
   "pygments_lexer": "ipython3",
   "version": "3.9.7"
  }
 },
 "nbformat": 4,
 "nbformat_minor": 5
}
