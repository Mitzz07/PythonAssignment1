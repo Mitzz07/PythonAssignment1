{
 "cells": [
  {
   "cell_type": "code",
   "execution_count": 4,
   "id": "3abe1330",
   "metadata": {},
   "outputs": [
    {
     "name": "stdout",
     "output_type": "stream",
     "text": [
      "[[11 13 15]\n",
      " [17 19 21]\n",
      " [23 25 27]]\n"
     ]
    }
   ],
   "source": [
    "#Que1) Write a Python Program to Add Two Matrices?\n",
    "\n",
    "A = [[1,2,3],  \n",
    "     [4,5,6],  \n",
    "     [7,8,9]]  \n",
    "  \n",
    "B = [[10,11,12],  \n",
    "     [13,14,15],  \n",
    "     [16,17,18]]  \n",
    "\n",
    "import numpy as np\n",
    "\n",
    "#for addition\n",
    "Add= np.array(A) + np.array(B)\n",
    "print(Add)"
   ]
  },
  {
   "cell_type": "code",
   "execution_count": 6,
   "id": "924cedf7",
   "metadata": {},
   "outputs": [
    {
     "name": "stdout",
     "output_type": "stream",
     "text": [
      "[[ 84  90  96]\n",
      " [201 216 231]\n",
      " [318 342 366]]\n"
     ]
    }
   ],
   "source": [
    "#Que2)  Write a Python Program to Multiply Two Matrices?\n",
    "\n",
    "A = [[1,2,3],  \n",
    "     [4,5,6],  \n",
    "     [7,8,9]]  \n",
    "  \n",
    "B = [[10,11,12],  \n",
    "     [13,14,15],  \n",
    "     [16,17,18]]\n",
    "\n",
    "#for multiplication \n",
    "M = np.dot(A,B)\n",
    "print(M)"
   ]
  },
  {
   "cell_type": "code",
   "execution_count": 10,
   "id": "2c808c24",
   "metadata": {},
   "outputs": [
    {
     "name": "stdout",
     "output_type": "stream",
     "text": [
      "[[1 4 7]\n",
      " [2 5 8]\n",
      " [3 6 9]]\n"
     ]
    }
   ],
   "source": [
    "#Que3)  Write a Python Program to Transpose a Matrix?\n",
    "\n",
    "A = [[1,2,3],  \n",
    "     [4,5,6],  \n",
    "     [7,8,9]]  \n",
    "\n",
    "Transpose_A = np.transpose(A)\n",
    "print(Transpose_A)"
   ]
  },
  {
   "cell_type": "code",
   "execution_count": 30,
   "id": "4a080eac",
   "metadata": {},
   "outputs": [
    {
     "name": "stdout",
     "output_type": "stream",
     "text": [
      "Enter a sentence : I AM my favOUrite\n",
      "am\n",
      "favourite\n",
      "i\n",
      "my\n"
     ]
    }
   ],
   "source": [
    "#Que4)  Write a Python Program to Sort Words in Alphabetic Order?\n",
    "\n",
    "a=input(\"Enter a sentence : \")\n",
    "\n",
    "L=a.lower()\n",
    "\n",
    "Words=L.split()\n",
    "\n",
    "Words.sort()\n",
    "\n",
    "for i in Words:\n",
    "    print(i)"
   ]
  },
  {
   "cell_type": "code",
   "execution_count": 36,
   "id": "1209cb0c",
   "metadata": {},
   "outputs": [
    {
     "name": "stdout",
     "output_type": "stream",
     "text": [
      "Enter a sentence : Don't touc*h mee, & myy b@@@aag , Is tha>>tt okay !!??\n",
      "Renewed sentence is :   Don't touch mee  myy baag  Is thatt okay \n"
     ]
    }
   ],
   "source": [
    "#Que5) Write a Python Program to Remove Punctuation From a String?\n",
    "\n",
    "Punctuations= '~`!@#$%^&*()-_+=\\|]}[{''\"\":;,.<>/?'\n",
    "\n",
    "A = input(\"Enter a sentence : \")\n",
    "\n",
    "New_A = \" \"\n",
    "for i in A :\n",
    "    if i not in Punctuations: \n",
    "        New_A = New_A + i\n",
    "print(\"Renewed sentence is : \" ,New_A)    "
   ]
  }
 ],
 "metadata": {
  "kernelspec": {
   "display_name": "Python 3 (ipykernel)",
   "language": "python",
   "name": "python3"
  },
  "language_info": {
   "codemirror_mode": {
    "name": "ipython",
    "version": 3
   },
   "file_extension": ".py",
   "mimetype": "text/x-python",
   "name": "python",
   "nbconvert_exporter": "python",
   "pygments_lexer": "ipython3",
   "version": "3.9.12"
  }
 },
 "nbformat": 4,
 "nbformat_minor": 5
}
