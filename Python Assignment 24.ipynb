{
 "cells": [
  {
   "cell_type": "markdown",
   "id": "76b3bfde",
   "metadata": {},
   "source": [
    "1. What is the relationship between def statements and lambda expressions ?\n",
    "Ans: def statement is used to create a normal function. where as lamba expressions are used to create Anonymous functions. which can be assigned to a variable and can be called using the variable later in function.\n",
    "Lambda's body is a single expression and not a block of statements like def statement. The lambda expression's body is similar to what we'd put in a def body's return statement. We simply type the result as an expression instead of explicitly returning it. Because it is limited to an expression, a lambda is less general than a def statement."
   ]
  },
  {
   "cell_type": "markdown",
   "id": "c0b3f0b4",
   "metadata": {},
   "source": [
    "2. What is the benefit of lambda?\n",
    "Ans:\n",
    "i) Can be used to create Nameless/Anonymous functions inside some complex functions if we are planning to use it only once.\n",
    "ii) Moderate to small functions can be created in a single line\n",
    "iii) Fuctions created using lambda expressions can be assigned to a variable and can be used by simply calling the variable"
   ]
  },
  {
   "cell_type": "markdown",
   "id": "6d24b3bd",
   "metadata": {},
   "source": [
    "3. Compare and contrast map, filter, and reduce.\n",
    "Ams:\n",
    "1. map(): The map() function is a type of higher-order. This function takes another function as a parameter\n",
    "along with a sequence of iterables and returns an output after applying the function to each iterable present in the sequence. 2. filter(): The filter() function is used to create an output list consisting of values for which the function returns true. 3. reduce(): The reduce() function, as the name describes, applies a given function to the iterables and returns a single value"
   ]
  },
  {
   "cell_type": "markdown",
   "id": "5b5e83bc",
   "metadata": {},
   "source": [
    "4. What are function annotations, and how are they used?\n",
    "Ans:\n",
    "Function annotations are arbitrary python expressions that are associated with various part of functions. These expressions are evaluated at compile time and have no life in python's runtime environment. Python does not attach any meaning to these annotations\n",
    "To do function annotations, you annotate the arguments and the return value. The syntax for arguments is the argument's name, colon ( : ), space, and then whatever the annotation is. And then the syntax for return types is that space, greater than symbol arrow ( -> ), and then the annotation\n",
    "Annotations of simple parameters def func(x: expression, y: expression = 20):\n",
    "Whereas the annotations for excess parameters are as − def func (**args: expression, **kwargs: expression):"
   ]
  },
  {
   "cell_type": "markdown",
   "id": "2330844c",
   "metadata": {},
   "source": [
    "5. What are recursive functions, and how are they used?\n",
    "Ans : A recursive function is a function that calls itself during its execution. The process may repeat several times, outputting the result and the end of each iteration."
   ]
  },
  {
   "cell_type": "markdown",
   "id": "3dcd4c8f",
   "metadata": {},
   "source": [
    "6. What are some general design guidelines for coding functions?\n",
    "Ans: \n",
    "Some of the general design guidelines for coding functions are:\n",
    "\n",
    "1.Always use a docstring to explain the functionality of the function\n",
    "2.avoid using or limited use of global variables\n",
    "3.Proper Identation to increase the code readability\n",
    "4.try to follow a naming convention for function names (pascalCase or camelCase) and stick with the same convention throughout the application.\n",
    "5.Avoid using digits while choosing a variable name\n",
    "6.try to use a name for the function which conveys the purpose of the function\n",
    "7.Local variables should be named using camelCase format (ex: localVariable) whereas Global variables names should be using PascalCase (ex:GlobalVariable).\n",
    "8.Constant should be represented in allcaps (ex:CONSTANT)."
   ]
  },
  {
   "cell_type": "markdown",
   "id": "e1e79859",
   "metadata": {},
   "source": [
    "7. Name three or more ways that functions can communicate results to a caller.\n",
    "Ans: \n",
    "1. print\n",
    "2. return\n",
    "3. yield"
   ]
  }
 ],
 "metadata": {
  "kernelspec": {
   "display_name": "Python 3 (ipykernel)",
   "language": "python",
   "name": "python3"
  },
  "language_info": {
   "codemirror_mode": {
    "name": "ipython",
    "version": 3
   },
   "file_extension": ".py",
   "mimetype": "text/x-python",
   "name": "python",
   "nbconvert_exporter": "python",
   "pygments_lexer": "ipython3",
   "version": "3.9.7"
  }
 },
 "nbformat": 4,
 "nbformat_minor": 5
}
