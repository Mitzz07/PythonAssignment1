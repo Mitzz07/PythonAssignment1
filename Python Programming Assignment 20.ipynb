{
 "cells": [
  {
   "cell_type": "markdown",
   "id": "17050e16",
   "metadata": {},
   "source": [
    "Question1\n",
    "Create a function that takes a list of strings and integers, and filters out the list so that it returns a list of integers only.\n",
    "Examples:\n",
    "filter_list([1, 2, 3, \"a\", \"b\", 4]) ➞ [1, 2, 3, 4]\n",
    "filter_list([\"A\", 0, \"Edabit\", 1729, \"Python\", \"1729\"]) ➞ [0, 1729]\n",
    "filter_list([\"Nothing\", \"here\"]) ➞ []"
   ]
  },
  {
   "cell_type": "code",
   "execution_count": 3,
   "id": "955f0f10",
   "metadata": {},
   "outputs": [],
   "source": [
    "def filter_list(lst):\n",
    "    lst1=[]\n",
    "    for i in lst:\n",
    "        if type(i)==int:\n",
    "            lst1.append(i)\n",
    "    return lst1        "
   ]
  },
  {
   "cell_type": "code",
   "execution_count": 4,
   "id": "2aced4a9",
   "metadata": {},
   "outputs": [
    {
     "data": {
      "text/plain": [
       "[4, 34, 94]"
      ]
     },
     "execution_count": 4,
     "metadata": {},
     "output_type": "execute_result"
    }
   ],
   "source": [
    "filter_list(['mitzz',4,34,'chai','khari',94,'rash'])"
   ]
  },
  {
   "cell_type": "markdown",
   "id": "0ff1ad49",
   "metadata": {},
   "source": [
    "Question2\n",
    "Given a list of numbers, create a function which returns the list but with each element's\n",
    "index in the list added to itself. This means you add 0 to the number at index 0, add 1 to the\n",
    "number at index 1, etc...\n",
    "Examples\n",
    "add_indexes([0, 0, 0, 0, 0]) ➞ [0, 1, 2, 3, 4]\n",
    "add_indexes([1, 2, 3, 4, 5]) ➞ [1, 3, 5, 7, 9]\n",
    "add_indexes([5, 4, 3, 2, 1]) ➞ [5, 5, 5, 5, 5]"
   ]
  },
  {
   "cell_type": "code",
   "execution_count": 12,
   "id": "12503ffc",
   "metadata": {},
   "outputs": [],
   "source": [
    "def index_add(lst):\n",
    "    lst1=[]\n",
    "    for i in range(len(lst)):\n",
    "        a = i + lst[i]\n",
    "        lst1.append(a)\n",
    "    return lst1    "
   ]
  },
  {
   "cell_type": "code",
   "execution_count": 13,
   "id": "b2eaa98c",
   "metadata": {},
   "outputs": [
    {
     "data": {
      "text/plain": [
       "[0, 1, 2, 3, 4]"
      ]
     },
     "execution_count": 13,
     "metadata": {},
     "output_type": "execute_result"
    }
   ],
   "source": [
    "index_add([0,0,0,0,0])"
   ]
  },
  {
   "cell_type": "markdown",
   "id": "bf84b935",
   "metadata": {},
   "source": [
    "Question3\n",
    "Create a function that takes the height and radius of a cone as arguments and returns the volume of the cone rounded to the nearest hundredth. See the resources tab for the formula.\n",
    "Examples:\n",
    "cone_volume(3, 2) ➞ 12.57\n",
    "cone_volume(15, 6) ➞ 565.49\n",
    "cone_volume(18, 0) ➞ 0"
   ]
  },
  {
   "cell_type": "code",
   "execution_count": 18,
   "id": "8f58e540",
   "metadata": {},
   "outputs": [],
   "source": [
    "import math\n",
    "\n",
    "def vol_cone(h,r):\n",
    "    vol = (1/3 * math.pi * r * r * h)\n",
    "    vol = round(vol,2)\n",
    "    return vol"
   ]
  },
  {
   "cell_type": "code",
   "execution_count": 19,
   "id": "8517414c",
   "metadata": {},
   "outputs": [
    {
     "data": {
      "text/plain": [
       "12.57"
      ]
     },
     "execution_count": 19,
     "metadata": {},
     "output_type": "execute_result"
    }
   ],
   "source": [
    "vol_cone(3,2)"
   ]
  },
  {
   "cell_type": "markdown",
   "id": "d8982aad",
   "metadata": {},
   "source": [
    "Question4\n",
    "This Triangular Number Sequence is generated from a pattern of dots that form a triangle.\n",
    "The first 5 numbers of the sequence, or dots, are: 1, 3, 6, 10, 15\n",
    "This means that the first triangle has just one dot, the second one has three dots, the third one has 6 dots and so on. Write a function that gives the number of dots with its corresponding triangle number of the sequence.\n",
    "\n",
    "Examples:\n",
    "triangle(1) ➞ 1\n",
    "triangle(6) ➞ 21\n",
    "triangle(215) ➞ 23220"
   ]
  },
  {
   "cell_type": "code",
   "execution_count": 20,
   "id": "44d73817",
   "metadata": {},
   "outputs": [],
   "source": [
    "def tri_seq(n):\n",
    "    dot = n * (n+1)/2 \n",
    "    return dot"
   ]
  },
  {
   "cell_type": "code",
   "execution_count": 21,
   "id": "915db051",
   "metadata": {},
   "outputs": [
    {
     "data": {
      "text/plain": [
       "21.0"
      ]
     },
     "execution_count": 21,
     "metadata": {},
     "output_type": "execute_result"
    }
   ],
   "source": [
    "tri_seq(6)"
   ]
  },
  {
   "cell_type": "code",
   "execution_count": 22,
   "id": "dead27cd",
   "metadata": {},
   "outputs": [
    {
     "data": {
      "text/plain": [
       "23220.0"
      ]
     },
     "execution_count": 22,
     "metadata": {},
     "output_type": "execute_result"
    }
   ],
   "source": [
    "tri_seq(215)"
   ]
  },
  {
   "cell_type": "markdown",
   "id": "32a8f33a",
   "metadata": {},
   "source": [
    "Question5\n",
    "Create a function that takes a list of numbers between 1 and 10 (excluding one number) and returns the missing number.\n",
    "Examples:\n",
    "missing_num([1, 2, 3, 4, 6, 7, 8, 9, 10]) ➞ 5\n",
    "missing_num([7, 2, 3, 6, 5, 9, 1, 4, 8]) ➞ 10\n",
    "missing_num([10, 5, 1, 2, 4, 6, 8, 3, 9]) ➞ 7"
   ]
  },
  {
   "cell_type": "code",
   "execution_count": 25,
   "id": "4ae68836",
   "metadata": {},
   "outputs": [],
   "source": [
    "def miss_num(lst):\n",
    "    for i in range(1,11):\n",
    "        if i not in lst:\n",
    "            a=print(i)\n",
    "    return a       "
   ]
  },
  {
   "cell_type": "code",
   "execution_count": 26,
   "id": "17d00e8a",
   "metadata": {},
   "outputs": [
    {
     "name": "stdout",
     "output_type": "stream",
     "text": [
      "6\n"
     ]
    }
   ],
   "source": [
    "miss_num([1,2,3,4,5,7,8,9,10])"
   ]
  }
 ],
 "metadata": {
  "kernelspec": {
   "display_name": "Python 3 (ipykernel)",
   "language": "python",
   "name": "python3"
  },
  "language_info": {
   "codemirror_mode": {
    "name": "ipython",
    "version": 3
   },
   "file_extension": ".py",
   "mimetype": "text/x-python",
   "name": "python",
   "nbconvert_exporter": "python",
   "pygments_lexer": "ipython3",
   "version": "3.9.12"
  }
 },
 "nbformat": 4,
 "nbformat_minor": 5
}
