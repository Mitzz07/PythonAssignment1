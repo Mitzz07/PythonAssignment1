{
 "cells": [
  {
   "cell_type": "code",
   "execution_count": 7,
   "id": "c353a050",
   "metadata": {},
   "outputs": [
    {
     "name": "stdout",
     "output_type": "stream",
     "text": [
      "820\n"
     ]
    }
   ],
   "source": [
    "#Que1) Write a Python program to find sum of elements in list?\n",
    "\n",
    "l=[1,2,3,4,6,8,53,3,5,7,9,643,3,57,8,8]\n",
    "\n",
    "count=0\n",
    "for i in range(len(l)):\n",
    "    count=count + l[i]\n",
    "print(count)    "
   ]
  },
  {
   "cell_type": "code",
   "execution_count": 13,
   "id": "da4225f0",
   "metadata": {},
   "outputs": [
    {
     "name": "stdout",
     "output_type": "stream",
     "text": [
      "24\n"
     ]
    }
   ],
   "source": [
    "#Que2) Write a Python program to Multiply all numbers in the list?\n",
    "\n",
    "l=[1,2,3,4]\n",
    "\n",
    "count=1\n",
    "for i in range(len(l)):\n",
    "    count=count * l[i]\n",
    "print(count)"
   ]
  },
  {
   "cell_type": "code",
   "execution_count": 14,
   "id": "eeeb548d",
   "metadata": {},
   "outputs": [
    {
     "data": {
      "text/plain": [
       "1"
      ]
     },
     "execution_count": 14,
     "metadata": {},
     "output_type": "execute_result"
    }
   ],
   "source": [
    "#Que3)  Write a Python program to find smallest number in a list?\n",
    "\n",
    "l=[1,2,3,4,6,8,53,3,5,7,9,643,3,57,8,8]\n",
    "\n",
    "min(l)"
   ]
  },
  {
   "cell_type": "code",
   "execution_count": 15,
   "id": "0b892d37",
   "metadata": {},
   "outputs": [
    {
     "data": {
      "text/plain": [
       "643"
      ]
     },
     "execution_count": 15,
     "metadata": {},
     "output_type": "execute_result"
    }
   ],
   "source": [
    "#Que4) Write a Python program to find largest number in a list?\n",
    "\n",
    "l=[1,2,3,4,6,8,53,3,5,7,9,643,3,57,8,8]\n",
    "\n",
    "max(l)"
   ]
  },
  {
   "cell_type": "code",
   "execution_count": 25,
   "id": "5ee73ad5",
   "metadata": {},
   "outputs": [
    {
     "name": "stdout",
     "output_type": "stream",
     "text": [
      "[3, 3, 3, 3, 5, 5, 6, 6, 7, 8, 8, 9, 43, 53, 57, 643, 765, 765]\n",
      "2nd largest no is :  765\n"
     ]
    }
   ],
   "source": [
    "#Que5) Write a Python program to find second largest number in a list?\n",
    "\n",
    "l=[5,6,765,3,43,6,765,3,53,3,5,7,9,643,3,57,8,8]\n",
    "\n",
    "l.sort()\n",
    "print(l)\n",
    "\n",
    "print(\"2nd largest no is : \",l[-2])"
   ]
  },
  {
   "cell_type": "code",
   "execution_count": 30,
   "id": "1efd6740",
   "metadata": {},
   "outputs": [
    {
     "name": "stdout",
     "output_type": "stream",
     "text": [
      "[765, 643, 57, 53, 43, 9, 8, 8, 7, 6, 6, 5, 5, 3, 3, 3, 3]\n",
      "3rd largest no is:  57\n"
     ]
    }
   ],
   "source": [
    "#Que6) Write a Python program to find N largest elements from a list?\n",
    "\n",
    "l=[5,6,765,3,43,6,3,53,3,5,7,9,643,3,57,8,8]\n",
    "\n",
    "l.sort(reverse=True)\n",
    "print(l)\n",
    "\n",
    "#To get N-largest number  l[N-1]\n",
    "print(\"3rd largest no is: \", l[3-1])"
   ]
  },
  {
   "cell_type": "code",
   "execution_count": 32,
   "id": "25280c35",
   "metadata": {},
   "outputs": [
    {
     "name": "stdout",
     "output_type": "stream",
     "text": [
      "[6, 6, 8, 8]\n"
     ]
    }
   ],
   "source": [
    "#Que7) Write a Python program to print even numbers in a list?\n",
    "\n",
    "l=[5,6,765,3,43,6,3,53,3,5,7,9,643,3,57,8,8]\n",
    "\n",
    "l1=[]\n",
    "for i in l:\n",
    "    if i%2==0:\n",
    "        l1.append(i)\n",
    "print(l1)    "
   ]
  },
  {
   "cell_type": "code",
   "execution_count": 33,
   "id": "b13ae3fb",
   "metadata": {},
   "outputs": [
    {
     "name": "stdout",
     "output_type": "stream",
     "text": [
      "[5, 765, 3, 43, 3, 53, 3, 5, 7, 9, 643, 3, 57]\n"
     ]
    }
   ],
   "source": [
    "#Que8)  Write a Python program to print odd numbers in a List?\n",
    "\n",
    "l=[5,6,765,3,43,6,3,53,3,5,7,9,643,3,57,8,8]\n",
    "\n",
    "l1=[]\n",
    "for i in l:\n",
    "    if i%2!=0:\n",
    "        l1.append(i)\n",
    "print(l1)    "
   ]
  },
  {
   "cell_type": "code",
   "execution_count": 37,
   "id": "fc26d293",
   "metadata": {},
   "outputs": [
    {
     "name": "stdout",
     "output_type": "stream",
     "text": [
      "[342, 5, 46, 23, 42, 42, 34, 23]\n"
     ]
    }
   ],
   "source": [
    "#Que9)  Write a Python program to Remove empty List from List?\n",
    "\n",
    "l=[342,5,46,23,[],42,42,[],34,23]\n",
    "\n",
    "l1=[]\n",
    "for i in l:\n",
    "    if i!=[]:\n",
    "        l1.append(i)\n",
    "print(l1)            "
   ]
  },
  {
   "cell_type": "code",
   "execution_count": 38,
   "id": "664279ef",
   "metadata": {},
   "outputs": [
    {
     "name": "stdout",
     "output_type": "stream",
     "text": [
      "[23, 35, 57, 552, 3, 6853, 24, 47, 32]\n"
     ]
    }
   ],
   "source": [
    "#Que10)  Write a Python program to Cloning or Copying a list?\n",
    "\n",
    "LIST = [23,35,57,552,3,6853,24,47,32]\n",
    "\n",
    "clone= list(LIST)\n",
    "print(clone)"
   ]
  },
  {
   "cell_type": "code",
   "execution_count": 41,
   "id": "accc3132",
   "metadata": {},
   "outputs": [
    {
     "name": "stdout",
     "output_type": "stream",
     "text": [
      "Enter a no which u want to count : 3\n",
      "4\n"
     ]
    }
   ],
   "source": [
    "#Que11)  Write a Python program to Count occurrences of an element in a list?\n",
    "\n",
    "l=[5,6,765,3,43,6,3,53,3,5,7,9,643,3,57,8,8]\n",
    "\n",
    "n=int(input(\"Enter a no which u want to count : \"))\n",
    "count = 0 \n",
    "for i in l:\n",
    "    if i==n:\n",
    "        count=count+1\n",
    "print(count)        \n",
    "    "
   ]
  }
 ],
 "metadata": {
  "kernelspec": {
   "display_name": "Python 3 (ipykernel)",
   "language": "python",
   "name": "python3"
  },
  "language_info": {
   "codemirror_mode": {
    "name": "ipython",
    "version": 3
   },
   "file_extension": ".py",
   "mimetype": "text/x-python",
   "name": "python",
   "nbconvert_exporter": "python",
   "pygments_lexer": "ipython3",
   "version": "3.9.12"
  }
 },
 "nbformat": 4,
 "nbformat_minor": 5
}
