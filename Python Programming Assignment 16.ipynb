{
 "cells": [
  {
   "cell_type": "markdown",
   "id": "8ae4dedf",
   "metadata": {},
   "source": [
    "Question1.\n",
    "Write a function that stutters a word as if someone is struggling to read it. The first two letters are repeated twice with an ellipsis ... and space after each, and then the word is pronounced with a question mark ?\n",
    "Examples: stutter(\"incredible\") ➞ \"in... in... incredible?\"\n",
    "stutter(\"enthusiastic\") ➞ \"en... en... enthusiastic?\"\n",
    "stutter(\"outstanding\") ➞ \"ou... ou... outstanding?\"\n",
    "\n",
    "Hint :- Assume all input is in lower case and at least two characters long."
   ]
  },
  {
   "cell_type": "code",
   "execution_count": 9,
   "id": "f45c1c7c",
   "metadata": {},
   "outputs": [],
   "source": [
    "def stutter(string):\n",
    "    output=((string[0:2] + '... ')*2) + string[0:] + '?'\n",
    "    return output    "
   ]
  },
  {
   "cell_type": "code",
   "execution_count": 10,
   "id": "0f335098",
   "metadata": {},
   "outputs": [
    {
     "data": {
      "text/plain": [
       "'in... in... incredible?'"
      ]
     },
     "execution_count": 10,
     "metadata": {},
     "output_type": "execute_result"
    }
   ],
   "source": [
    "stutter('incredible')"
   ]
  },
  {
   "cell_type": "code",
   "execution_count": 11,
   "id": "6057db8a",
   "metadata": {},
   "outputs": [
    {
     "data": {
      "text/plain": [
       "'ou... ou... outstanding?'"
      ]
     },
     "execution_count": 11,
     "metadata": {},
     "output_type": "execute_result"
    }
   ],
   "source": [
    "stutter('outstanding')"
   ]
  },
  {
   "cell_type": "markdown",
   "id": "b8110668",
   "metadata": {},
   "source": [
    "# OR"
   ]
  },
  {
   "cell_type": "code",
   "execution_count": 12,
   "id": "9d396a51",
   "metadata": {},
   "outputs": [],
   "source": [
    "def stutter1(string):\n",
    "    output1=(string[0:2] + '... ')+ (string[0:2] + '... ') + string[0:] + '?'\n",
    "    return output1    "
   ]
  },
  {
   "cell_type": "code",
   "execution_count": 13,
   "id": "200c55c4",
   "metadata": {},
   "outputs": [
    {
     "data": {
      "text/plain": [
       "'ou... ou... outstanding?'"
      ]
     },
     "execution_count": 13,
     "metadata": {},
     "output_type": "execute_result"
    }
   ],
   "source": [
    "stutter1('outstanding')"
   ]
  },
  {
   "cell_type": "markdown",
   "id": "8fbae202",
   "metadata": {},
   "source": [
    "Question2.\n",
    "Create a function that takes an angle in radians and returns the corresponding angle in degrees rounded to one decimal place ?\n",
    "Examples: radians_to_degrees(1) ➞ 57.3\n",
    "radians_to_degrees(20) ➞ 1145.9\n",
    "radians_to_degrees(50) ➞ 2864.8"
   ]
  },
  {
   "cell_type": "code",
   "execution_count": 19,
   "id": "a2a25288",
   "metadata": {},
   "outputs": [],
   "source": [
    "import math\n",
    "def rad_to_degree(rad):\n",
    "    degree = (180/math.pi) * rad\n",
    "    degree1= round(degree,1)\n",
    "    return degree1"
   ]
  },
  {
   "cell_type": "code",
   "execution_count": 20,
   "id": "2b54b1ff",
   "metadata": {},
   "outputs": [
    {
     "data": {
      "text/plain": [
       "57.3"
      ]
     },
     "execution_count": 20,
     "metadata": {},
     "output_type": "execute_result"
    }
   ],
   "source": [
    "rad_to_degree(1)"
   ]
  },
  {
   "cell_type": "code",
   "execution_count": 21,
   "id": "4ac23dc2",
   "metadata": {},
   "outputs": [
    {
     "data": {
      "text/plain": [
       "2864.8"
      ]
     },
     "execution_count": 21,
     "metadata": {},
     "output_type": "execute_result"
    }
   ],
   "source": [
    "rad_to_degree(50)"
   ]
  },
  {
   "cell_type": "markdown",
   "id": "d336aa44",
   "metadata": {},
   "source": [
    "Question3.\n",
    "In this challenge, establish if a given integer num is a Curzon number. If 1 plus 2 elevated to num is exactly divisible by 1 plus 2 multiplied by num, then num is a Curzon number. Given a non-negative integer num, implement a function that returns True if num is a Curzon number, or False otherwise.\n",
    "Examples: is_curzon(5) ➞ True # 2 ** 5 + 1 = 33 # 2 * 5 + 1 = 11 # 33 is a multiple of 11 is_curzon(10) ➞ False # 2 ** 10 + 1 = 1025 # 2 * 10 + 1 = 21 # 1025 is not a multiple of 21 is_curzon(14) ➞ True # 2 ** 14 + 1 = 16385 # 2 * 14 + 1 = 29 # 16385 is a multiple of 29"
   ]
  },
  {
   "cell_type": "code",
   "execution_count": 22,
   "id": "2933d260",
   "metadata": {},
   "outputs": [],
   "source": [
    "def curzon_no(num):\n",
    "    curz1 = 1 + 2 ** num\n",
    "    curz2 = 1 + 2 * num\n",
    "    if curz1 % curz2 == 0 :\n",
    "        print('True')\n",
    "    else :\n",
    "        print('False')    "
   ]
  },
  {
   "cell_type": "code",
   "execution_count": 23,
   "id": "f20f7898",
   "metadata": {},
   "outputs": [
    {
     "name": "stdout",
     "output_type": "stream",
     "text": [
      "True\n"
     ]
    }
   ],
   "source": [
    "curzon_no(5)"
   ]
  },
  {
   "cell_type": "code",
   "execution_count": 24,
   "id": "45214ee0",
   "metadata": {},
   "outputs": [
    {
     "name": "stdout",
     "output_type": "stream",
     "text": [
      "False\n"
     ]
    }
   ],
   "source": [
    "curzon_no(10)"
   ]
  },
  {
   "cell_type": "markdown",
   "id": "7ef9fca1",
   "metadata": {},
   "source": [
    "Question4.\n",
    "Given the side length x find the area of a hexagon ?\n",
    "Examples: area_of_hexagon(1) ➞ 2.6\n",
    "area_of_hexagon(2) ➞ 10.4\n",
    "area_of_hexagon(3) ➞ 23.4"
   ]
  },
  {
   "cell_type": "code",
   "execution_count": 27,
   "id": "3d5c1d81",
   "metadata": {},
   "outputs": [],
   "source": [
    "def Area_hexagon(x):\n",
    "    Area = (3 * math.sqrt(3) / 2 ) * x**2\n",
    "    Area1 = round(Area,1)\n",
    "    return Area1"
   ]
  },
  {
   "cell_type": "code",
   "execution_count": 28,
   "id": "e44fce38",
   "metadata": {},
   "outputs": [
    {
     "data": {
      "text/plain": [
       "2.6"
      ]
     },
     "execution_count": 28,
     "metadata": {},
     "output_type": "execute_result"
    }
   ],
   "source": [
    "Area_hexagon(1)"
   ]
  },
  {
   "cell_type": "code",
   "execution_count": 29,
   "id": "c2ccbdf0",
   "metadata": {},
   "outputs": [
    {
     "data": {
      "text/plain": [
       "23.4"
      ]
     },
     "execution_count": 29,
     "metadata": {},
     "output_type": "execute_result"
    }
   ],
   "source": [
    "Area_hexagon(3)"
   ]
  },
  {
   "cell_type": "markdown",
   "id": "bcdf64f5",
   "metadata": {},
   "source": [
    "Question5.\n",
    "Create a function that returns a base-2 (binary) representation of a base-10 (decimal) string number. To convert is simple:\n",
    "((2) means base-2 and (10) means base-10)\n",
    "010101001(2) = 1 + 8 + 32 + 128.\n",
    "Going from right to left, the value of the most right bit is 1, now from that every bit to the left will be x2 the value, value of an 8 bit binary numbers are (256, 128, 64, 32, 16, 8, 4, 2, 1).\n",
    "Examples:\n",
    "binary(1) ➞ \"1\" # 1* 1 = 1 binary(5) ➞ \"101\" # 1 1 + 1 4 = 5 binary(10) ➞ \"1010\" # 1 2 + 1 8 = 10\n"
   ]
  },
  {
   "cell_type": "code",
   "execution_count": 30,
   "id": "eadfa2d2",
   "metadata": {},
   "outputs": [],
   "source": [
    "def binary_no(num):\n",
    "    binary = bin(num).replace('0b','')\n",
    "    return binary"
   ]
  },
  {
   "cell_type": "code",
   "execution_count": 32,
   "id": "fdce9e6f",
   "metadata": {},
   "outputs": [
    {
     "data": {
      "text/plain": [
       "'1'"
      ]
     },
     "execution_count": 32,
     "metadata": {},
     "output_type": "execute_result"
    }
   ],
   "source": [
    "binary_no(1)"
   ]
  },
  {
   "cell_type": "code",
   "execution_count": 33,
   "id": "1ed1d8a1",
   "metadata": {},
   "outputs": [
    {
     "data": {
      "text/plain": [
       "'1010'"
      ]
     },
     "execution_count": 33,
     "metadata": {},
     "output_type": "execute_result"
    }
   ],
   "source": [
    "binary_no(10)"
   ]
  }
 ],
 "metadata": {
  "kernelspec": {
   "display_name": "Python 3 (ipykernel)",
   "language": "python",
   "name": "python3"
  },
  "language_info": {
   "codemirror_mode": {
    "name": "ipython",
    "version": 3
   },
   "file_extension": ".py",
   "mimetype": "text/x-python",
   "name": "python",
   "nbconvert_exporter": "python",
   "pygments_lexer": "ipython3",
   "version": "3.9.12"
  }
 },
 "nbformat": 4,
 "nbformat_minor": 5
}
