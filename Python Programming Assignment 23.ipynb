{
 "cells": [
  {
   "cell_type": "markdown",
   "id": "88d27d27",
   "metadata": {},
   "source": [
    "Question1\n",
    "Create a function that takes a number as an argument and returns True or False depending on whether the number is symmetrical or not. A number is symmetrical when it is the same as its reverse.\n",
    "Examples:\n",
    "is_symmetrical(7227) ➞ True\n",
    "is_symmetrical(12567) ➞ False\n",
    "is_symmetrical(44444444) ➞ True\n",
    "is_symmetrical(9939) ➞ False\n",
    "is_symmetrical(1112111) ➞ True"
   ]
  },
  {
   "cell_type": "code",
   "execution_count": 26,
   "id": "7dc5d706",
   "metadata": {},
   "outputs": [],
   "source": [
    "def symmetric(num):\n",
    "    reverse_num=str(num)[::-1]\n",
    "    if str(num) == reverse_num:\n",
    "        print(\"True\")\n",
    "    else: \n",
    "        print(\"False\")"
   ]
  },
  {
   "cell_type": "code",
   "execution_count": 27,
   "id": "2a2c6c42",
   "metadata": {},
   "outputs": [
    {
     "name": "stdout",
     "output_type": "stream",
     "text": [
      "False\n"
     ]
    }
   ],
   "source": [
    "symmetric(3456)"
   ]
  },
  {
   "cell_type": "code",
   "execution_count": 29,
   "id": "56603c1b",
   "metadata": {},
   "outputs": [
    {
     "name": "stdout",
     "output_type": "stream",
     "text": [
      "True\n"
     ]
    }
   ],
   "source": [
    "symmetric(456654)"
   ]
  },
  {
   "cell_type": "markdown",
   "id": "d6c9a0f3",
   "metadata": {},
   "source": [
    "Question2\n",
    "Given a string of numbers separated by a comma and space, return the product of the numbers.\n",
    "Examples:\n",
    "multiply_nums(\"2, 3\") ➞ 6\n",
    "multiply_nums(\"1, 2, 3, 4\") ➞ 24\n",
    "multiply_nums(\"54, 75, 453, 0\") ➞ 0\n",
    "multiply_nums(\"10, -2\") ➞ -20"
   ]
  },
  {
   "cell_type": "code",
   "execution_count": 45,
   "id": "e5298c6b",
   "metadata": {},
   "outputs": [],
   "source": [
    "def multiply_num(string):\n",
    "    str1=string.replace(' ','')\n",
    "    str2=str1.split(',')\n",
    "    str3=1\n",
    "    for i in str2:\n",
    "        str3= str3 * int(i)\n",
    "    return str3    "
   ]
  },
  {
   "cell_type": "code",
   "execution_count": 46,
   "id": "c51dbe5c",
   "metadata": {},
   "outputs": [
    {
     "data": {
      "text/plain": [
       "120"
      ]
     },
     "execution_count": 46,
     "metadata": {},
     "output_type": "execute_result"
    }
   ],
   "source": [
    "multiply_num(\"2, 3, 4, 5\")"
   ]
  },
  {
   "cell_type": "markdown",
   "id": "88e57f8c",
   "metadata": {},
   "source": [
    "Question3\n",
    "Create a function that squares every digit of a number.\n",
    "Examples:\n",
    "square_digits(9119) ➞ 811181\n",
    "square_digits(2483) ➞ 416649\n",
    "square_digits(3212) ➞ 94Question3"
   ]
  },
  {
   "cell_type": "code",
   "execution_count": 87,
   "id": "6e35f76f",
   "metadata": {},
   "outputs": [],
   "source": [
    "def square_fun(num):\n",
    "    l=[]\n",
    "    for i in str(num): \n",
    "        l.append(str(int(i)**2))\n",
    "        num2=''.join(l)\n",
    "    return num2"
   ]
  },
  {
   "cell_type": "code",
   "execution_count": 88,
   "id": "5d8d9239",
   "metadata": {},
   "outputs": [
    {
     "data": {
      "text/plain": [
       "'491649'"
      ]
     },
     "execution_count": 88,
     "metadata": {},
     "output_type": "execute_result"
    }
   ],
   "source": [
    "square_fun(747)"
   ]
  },
  {
   "cell_type": "markdown",
   "id": "00f1750c",
   "metadata": {},
   "source": [
    "Question4\n",
    "Create a function that sorts a list and removes all duplicate items from it.\n",
    "Examples:\n",
    "setify([1, 3, 3, 5, 5]) ➞ [1, 3, 5]\n",
    "setify([4, 4, 4, 4]) ➞ [4]\n",
    "setify([5, 7, 8, 9, 10, 15]) ➞ [5, 7, 8, 9, 10, 15]\n",
    "setify([3, 3, 3, 2, 1]) ➞ [1, 2, 3]"
   ]
  },
  {
   "cell_type": "code",
   "execution_count": 91,
   "id": "7c778acc",
   "metadata": {},
   "outputs": [],
   "source": [
    "def sort(lst):\n",
    "    lst1=sorted(lst)\n",
    "    lst2=list(set(lst1))\n",
    "    return lst2"
   ]
  },
  {
   "cell_type": "code",
   "execution_count": 92,
   "id": "b4da0b03",
   "metadata": {},
   "outputs": [
    {
     "data": {
      "text/plain": [
       "[3, 4, 5, 7]"
      ]
     },
     "execution_count": 92,
     "metadata": {},
     "output_type": "execute_result"
    }
   ],
   "source": [
    "sort([5,3,7,4,3,7,4])"
   ]
  },
  {
   "cell_type": "markdown",
   "id": "299fbf72",
   "metadata": {},
   "source": [
    "Question5\n",
    "Create a function that returns the mean of all digits.\n",
    "Examples:\n",
    "mean(42) ➞ 3\n",
    "mean(12345) ➞ 3\n",
    "mean(666) ➞ 6\n",
    "\n",
    "Notes:\n",
    "1.The mean of all digits is the sum of digits / how many digits there are (e.g. mean of digits in 512 is (5+1+2)/3(number of digits) = 8/3=2).\n",
    "2.The mean will always be an integer."
   ]
  },
  {
   "cell_type": "code",
   "execution_count": 101,
   "id": "f8ddb496",
   "metadata": {},
   "outputs": [],
   "source": [
    "def mean(num):\n",
    "    sum=0\n",
    "    for i in str(num):\n",
    "        sum=sum + int(i)\n",
    "        m= sum / len(str(num))\n",
    "    return m    "
   ]
  },
  {
   "cell_type": "code",
   "execution_count": 102,
   "id": "282e01a9",
   "metadata": {},
   "outputs": [
    {
     "data": {
      "text/plain": [
       "6.0"
      ]
     },
     "execution_count": 102,
     "metadata": {},
     "output_type": "execute_result"
    }
   ],
   "source": [
    "mean(84)"
   ]
  },
  {
   "cell_type": "code",
   "execution_count": 103,
   "id": "24707f98",
   "metadata": {},
   "outputs": [
    {
     "data": {
      "text/plain": [
       "6.5"
      ]
     },
     "execution_count": 103,
     "metadata": {},
     "output_type": "execute_result"
    }
   ],
   "source": [
    "mean(67)"
   ]
  }
 ],
 "metadata": {
  "kernelspec": {
   "display_name": "Python 3 (ipykernel)",
   "language": "python",
   "name": "python3"
  },
  "language_info": {
   "codemirror_mode": {
    "name": "ipython",
    "version": 3
   },
   "file_extension": ".py",
   "mimetype": "text/x-python",
   "name": "python",
   "nbconvert_exporter": "python",
   "pygments_lexer": "ipython3",
   "version": "3.9.12"
  }
 },
 "nbformat": 4,
 "nbformat_minor": 5
}
