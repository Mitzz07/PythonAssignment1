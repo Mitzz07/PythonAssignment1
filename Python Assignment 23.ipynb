{
 "cells": [
  {
   "cell_type": "markdown",
   "id": "9a183b3b",
   "metadata": {},
   "source": [
    "1. What is the result of the code, and why?\n",
    ">>> def func(a, b=6, c=8):\n",
    "print(a, b, c)\n",
    ">>> func(1, 2)"
   ]
  },
  {
   "cell_type": "code",
   "execution_count": 1,
   "id": "c70e0158",
   "metadata": {},
   "outputs": [],
   "source": [
    "def func(a,b=6,c=8):\n",
    "    print(a,b,c)"
   ]
  },
  {
   "cell_type": "code",
   "execution_count": 2,
   "id": "987da64f",
   "metadata": {},
   "outputs": [
    {
     "name": "stdout",
     "output_type": "stream",
     "text": [
      "1 2 8\n"
     ]
    }
   ],
   "source": [
    "func(1,2)"
   ]
  },
  {
   "cell_type": "markdown",
   "id": "5f5f0a3d",
   "metadata": {},
   "source": [
    "The result is as above because it print provided 2 values for first 2 parameters and assumes value of the last parameter as given in the defined function."
   ]
  },
  {
   "cell_type": "markdown",
   "id": "9af1d563",
   "metadata": {},
   "source": [
    "2. What is the result of this code, and why?\n",
    ">>> def func(a, b, c=5):\n",
    "print(a, b, c)\n",
    ">>> func(1, c=3, b=2)"
   ]
  },
  {
   "cell_type": "code",
   "execution_count": 4,
   "id": "1491bd76",
   "metadata": {},
   "outputs": [],
   "source": [
    "def fucn(a,b,c=5):\n",
    "    print(a,b,c)"
   ]
  },
  {
   "cell_type": "code",
   "execution_count": 5,
   "id": "9d05c417",
   "metadata": {},
   "outputs": [
    {
     "name": "stdout",
     "output_type": "stream",
     "text": [
      "1 2 3\n"
     ]
    }
   ],
   "source": [
    "fucn(1,c=3,b=2)"
   ]
  },
  {
   "cell_type": "markdown",
   "id": "97adf0ea",
   "metadata": {},
   "source": [
    "Here if the parameter name and it value is given in the call function then ppython will use this value instead of defined value. "
   ]
  },
  {
   "cell_type": "markdown",
   "id": "3e2a33a1",
   "metadata": {},
   "source": [
    "3. How about this code: what is its result, and why?\n",
    ">>> def func(a, *pargs):\n",
    "print(a, pargs)\n",
    ">>> func(1, 2, 3)"
   ]
  },
  {
   "cell_type": "code",
   "execution_count": 6,
   "id": "b61eff73",
   "metadata": {},
   "outputs": [],
   "source": [
    "def func(a,*pargs):\n",
    "    print(a,pargs)"
   ]
  },
  {
   "cell_type": "code",
   "execution_count": 7,
   "id": "c42a3f74",
   "metadata": {},
   "outputs": [
    {
     "name": "stdout",
     "output_type": "stream",
     "text": [
      "1 (2, 3)\n"
     ]
    }
   ],
   "source": [
    "func(1,2,3)"
   ]
  },
  {
   "cell_type": "markdown",
   "id": "b0f535d8",
   "metadata": {},
   "source": [
    "Here result will be 1 (2, 3). *pargs if the function used when we are not known about the no of parameters to be used in the function. It will return corresponding values of given parameters mentioned and remaining values in a tuple.\n",
    "*pargs is known as variable length argument"
   ]
  },
  {
   "cell_type": "markdown",
   "id": "4aa5a3db",
   "metadata": {},
   "source": [
    "4. What does this code print, and why?\n",
    ">>> def func(a, **kargs):\n",
    "print(a, kargs)\n",
    ">>> func(a=1, c=3, b=2)"
   ]
  },
  {
   "cell_type": "code",
   "execution_count": 8,
   "id": "65ec68a6",
   "metadata": {},
   "outputs": [],
   "source": [
    "def func(a,**kargs):\n",
    "    print(a,kargs)"
   ]
  },
  {
   "cell_type": "code",
   "execution_count": 9,
   "id": "d421c1b2",
   "metadata": {},
   "outputs": [
    {
     "name": "stdout",
     "output_type": "stream",
     "text": [
      "1 {'c': 3, 'b': 2}\n"
     ]
    }
   ],
   "source": [
    "func(a=1,c=3,b=2)"
   ]
  },
  {
   "cell_type": "markdown",
   "id": "47e565e2",
   "metadata": {},
   "source": [
    "Here the result will be 1 {'c': 3, 'b': 2}. **kargs is known as variable length keyword argument. It is used when we want to pass the key value pair. All these pairs will be stored in dictionary."
   ]
  },
  {
   "cell_type": "markdown",
   "id": "fde3d649",
   "metadata": {},
   "source": [
    "5. What gets printed by this, and explain?\n",
    ">>> def func(a, b, c=8, d=5): \n",
    "print(a, b, c, d)\n",
    ">>> func(1, *(5, 6))"
   ]
  },
  {
   "cell_type": "code",
   "execution_count": 10,
   "id": "bae4610e",
   "metadata": {},
   "outputs": [],
   "source": [
    "def func(a,b,c=8,d=5):\n",
    "    print(a,b,c,d)"
   ]
  },
  {
   "cell_type": "code",
   "execution_count": 11,
   "id": "127c1e75",
   "metadata": {},
   "outputs": [
    {
     "name": "stdout",
     "output_type": "stream",
     "text": [
      "1 5 6 5\n"
     ]
    }
   ],
   "source": [
    "func(1,*(5,6))"
   ]
  },
  {
   "cell_type": "markdown",
   "id": "d38be42e",
   "metadata": {},
   "source": [
    "Here result will be 1 5 6 5 . This is because it will consider the value of a as given in call function. then for b and c it will go like 5 and 6 from *(5,6) and then value of d will be taken as given."
   ]
  },
  {
   "cell_type": "markdown",
   "id": "79b416a2",
   "metadata": {},
   "source": [
    "6. what is the result of this, and explain?\n",
    ">>> def func(a, b, c): a = 2; b[0] = 'x'; c['a'] = 'y'\n",
    ">>> l=1; m=[1]; n={'a':0}\n",
    ">>> func(l, m, n)\n",
    ">>> l, m, n"
   ]
  },
  {
   "cell_type": "code",
   "execution_count": 12,
   "id": "d2180749",
   "metadata": {},
   "outputs": [
    {
     "data": {
      "text/plain": [
       "(1, ['x'], {'a': 'y'})"
      ]
     },
     "execution_count": 12,
     "metadata": {},
     "output_type": "execute_result"
    }
   ],
   "source": [
    "def func(a, b, c): a = 2; b[0] = 'x'; c['a'] = 'y'\n",
    "l=1; m=[1]; n={'a':0}\n",
    "func(l, m, n)\n",
    "l,m,n"
   ]
  },
  {
   "cell_type": "markdown",
   "id": "4cb0eb6c",
   "metadata": {},
   "source": [
    "   The output of above code is 1, ['x'], {'a': 'y'}.\n",
    "1. Eventhough Python gives importance to indentation. its provides a facility to declare an entire function in one single line. where statements in a function body are sepereated by ;\n",
    "2. When l,m,n are provided as inputs to the function. its modifies the values of l,m,n and sets the value of l=1 ,m=['x'] and n={'a':'y'}"
   ]
  }
 ],
 "metadata": {
  "kernelspec": {
   "display_name": "Python 3 (ipykernel)",
   "language": "python",
   "name": "python3"
  },
  "language_info": {
   "codemirror_mode": {
    "name": "ipython",
    "version": 3
   },
   "file_extension": ".py",
   "mimetype": "text/x-python",
   "name": "python",
   "nbconvert_exporter": "python",
   "pygments_lexer": "ipython3",
   "version": "3.9.7"
  }
 },
 "nbformat": 4,
 "nbformat_minor": 5
}
