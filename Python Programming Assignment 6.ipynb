{
 "cells": [
  {
   "cell_type": "code",
   "execution_count": 1,
   "id": "2ba30e2c",
   "metadata": {},
   "outputs": [
    {
     "name": "stdout",
     "output_type": "stream",
     "text": [
      "Total terms you want in fibonacci series : 5\n",
      "0\n",
      "1\n",
      "1\n",
      "2\n",
      "3\n"
     ]
    }
   ],
   "source": [
    "#Que1)  Write a Python Program to Display Fibonacci Sequence Using Recursion?\n",
    "\n",
    "def fibo(n):\n",
    "    if n <= 1:\n",
    "        return n\n",
    "    else:\n",
    "        return(fibo(n-1) + fibo(n-2))\n",
    "\n",
    "Seq_no = int(input(\"Total terms you want in fibonacci series : \"))\n",
    "\n",
    "if Seq_no <= 0:\n",
    "    print(\"Plese enter a positive no\")\n",
    "else:\n",
    "    for i in range(Seq_no):\n",
    "        print(fibo(i))"
   ]
  },
  {
   "cell_type": "code",
   "execution_count": 2,
   "id": "ea452086",
   "metadata": {},
   "outputs": [
    {
     "name": "stdout",
     "output_type": "stream",
     "text": [
      "4\n",
      "The factorial of 4 is 24\n"
     ]
    }
   ],
   "source": [
    "#Que2) Write a Python Program to Find Factorial of Number Using Recursion?\n",
    "\n",
    "def factorial(n):\n",
    "    if n == 1:\n",
    "        return n\n",
    "    else:\n",
    "        return n * factorial(n-1)\n",
    "\n",
    "num = int(input())\n",
    "\n",
    "if num < 0:\n",
    "    print(\"Please enter a positive no\")\n",
    "elif num == 0:\n",
    "    print (1)\n",
    "else:\n",
    "    print(\"The factorial of\", num, \"is\", factorial(num))"
   ]
  },
  {
   "cell_type": "code",
   "execution_count": 3,
   "id": "7cd3dd7b",
   "metadata": {},
   "outputs": [
    {
     "name": "stdout",
     "output_type": "stream",
     "text": [
      "Enter your weight in kg : 125\n",
      "Enter your Height in m : 155\n",
      "Your BMI is  0.005202913631633715\n"
     ]
    }
   ],
   "source": [
    "#Que3) Write a Python Program to calculate your Body Mass Index?\n",
    "\n",
    "Weight= float(input(\"Enter your weight in kg : \"))\n",
    "Height= float(input(\"Enter your Height in m : \"))\n",
    "\n",
    "BMI= Weight / Height**2\n",
    "\n",
    "print(\"Your BMI is \",BMI)"
   ]
  },
  {
   "cell_type": "code",
   "execution_count": 6,
   "id": "df7b6fab",
   "metadata": {},
   "outputs": [
    {
     "name": "stdout",
     "output_type": "stream",
     "text": [
      "Enter a number :  3\n",
      "Natural logarithm of  3 is 1.0986122886681098\n"
     ]
    }
   ],
   "source": [
    "#Que4) Write a Python Program to calculate the natural logarithm of any number?\n",
    "\n",
    "import math\n",
    "\n",
    "a=int(input(\"Enter a number :  \"))\n",
    "\n",
    "log= math.log(a)\n",
    "\n",
    "print(\"Natural logarithm of \",a , \"is\", log)"
   ]
  },
  {
   "cell_type": "code",
   "execution_count": 8,
   "id": "02b9c39b",
   "metadata": {},
   "outputs": [
    {
     "name": "stdout",
     "output_type": "stream",
     "text": [
      "Enter a natural no :  3\n",
      "36\n"
     ]
    }
   ],
   "source": [
    "#Que5) Write a Python Program for cube sum of first n natural numbers?\n",
    "\n",
    "n=int(input(\"Enter a natural no :  \"))\n",
    "\n",
    "sum=0\n",
    "for i in range(1,n+1):\n",
    "    sum=sum + i**3\n",
    "print(sum)"
   ]
  }
 ],
 "metadata": {
  "kernelspec": {
   "display_name": "Python 3 (ipykernel)",
   "language": "python",
   "name": "python3"
  },
  "language_info": {
   "codemirror_mode": {
    "name": "ipython",
    "version": 3
   },
   "file_extension": ".py",
   "mimetype": "text/x-python",
   "name": "python",
   "nbconvert_exporter": "python",
   "pygments_lexer": "ipython3",
   "version": "3.9.12"
  }
 },
 "nbformat": 4,
 "nbformat_minor": 5
}
