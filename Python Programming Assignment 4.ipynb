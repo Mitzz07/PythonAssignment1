{
 "cells": [
  {
   "cell_type": "code",
   "execution_count": 13,
   "id": "fba58a8a",
   "metadata": {},
   "outputs": [
    {
     "name": "stdout",
     "output_type": "stream",
     "text": [
      "4\n",
      "FActorial is  24\n"
     ]
    }
   ],
   "source": [
    "#Que1) Write a Python Program to Find the Factorial of a Number? \n",
    "\n",
    "n=int(input())\n",
    "if n < 0 :\n",
    "    print(0)\n",
    "elif n==0 or n==1:\n",
    "    print(1)\n",
    "else :\n",
    "    fact= 1\n",
    "    while(n>1):\n",
    "        fact=fact*n\n",
    "        n=n-1\n",
    "    print(\"FActorial is \",fact)"
   ]
  },
  {
   "cell_type": "code",
   "execution_count": 24,
   "id": "1c763c42",
   "metadata": {},
   "outputs": [
    {
     "name": "stdout",
     "output_type": "stream",
     "text": [
      "Give a no : 3\n",
      "3\n",
      "6\n",
      "9\n",
      "12\n",
      "15\n",
      "18\n",
      "21\n",
      "24\n",
      "27\n",
      "30\n"
     ]
    }
   ],
   "source": [
    "#Que2) Write a Python Program to Display the multiplication Table?\n",
    "\n",
    "n=int(input(\"Give a no : \"))\n",
    "for i in range(1,11):\n",
    "    num=n*i\n",
    "    print(num)"
   ]
  },
  {
   "cell_type": "code",
   "execution_count": 43,
   "id": "417b6f9f",
   "metadata": {},
   "outputs": [
    {
     "name": "stdout",
     "output_type": "stream",
     "text": [
      "8\n",
      "fibonacci series is  0 1\n",
      "1\n",
      "2\n",
      "3\n",
      "5\n",
      "8\n",
      "13\n"
     ]
    }
   ],
   "source": [
    "#Que3) Write a Python Program to Print the Fibonacci sequence?\n",
    "\n",
    "n=int(input())\n",
    "n1=0\n",
    "n2=1\n",
    "print(\"fibonacci series is \",n1,n2)\n",
    "for i in range(2,n):\n",
    "    n3=n2+n1\n",
    "    \n",
    "    n1=n2\n",
    "    n2=n3\n",
    "    print(n3)"
   ]
  },
  {
   "cell_type": "code",
   "execution_count": 47,
   "id": "b3cdf0a1",
   "metadata": {},
   "outputs": [
    {
     "name": "stdout",
     "output_type": "stream",
     "text": [
      "345\n",
      "345 is not an Amstrong no.\n"
     ]
    }
   ],
   "source": [
    "#Que 4) Write a Python Program to Check Armstrong Number?\n",
    "\n",
    "n=int(input())\n",
    "s =0\n",
    "t=n\n",
    "while t>0:\n",
    "    digit=t%10\n",
    "    s=s+digit**3\n",
    "    t//=10\n",
    "if n==s:\n",
    "    print(n,\"is an Amstrong no.\")\n",
    "else:\n",
    "    print(n,\"is not an Amstrong no.\")"
   ]
  },
  {
   "cell_type": "code",
   "execution_count": 50,
   "id": "62fa896c",
   "metadata": {},
   "outputs": [
    {
     "name": "stdout",
     "output_type": "stream",
     "text": [
      "The Armstrong numbers are:  153\n",
      "The Armstrong numbers are:  370\n",
      "The Armstrong numbers are:  371\n",
      "The Armstrong numbers are:  407\n"
     ]
    }
   ],
   "source": [
    "#Que5) Write a Python Program to Find Armstrong Number in an Interval?\n",
    "\n",
    "l= 50\n",
    "u = 1500\n",
    "for n in range(l, u + 1):\n",
    "\n",
    "   order = len(str(n))\n",
    "   sum = 0\n",
    "   tem = n\n",
    "   while tem > 0:\n",
    "       digit = tem % 10\n",
    "       sum += digit ** order\n",
    "       tem //= 10\n",
    "   if n == sum:\n",
    "\n",
    "       print(\"The Armstrong numbers are: \",n)"
   ]
  },
  {
   "cell_type": "code",
   "execution_count": 53,
   "id": "0bc4ae8a",
   "metadata": {},
   "outputs": [
    {
     "name": "stdout",
     "output_type": "stream",
     "text": [
      "9\n",
      "Sum is  45\n"
     ]
    }
   ],
   "source": [
    "#Que6) Write a Python Program to Find the Sum of Natural Numbers?\n",
    "\n",
    "n=int(input())\n",
    "if n<0:\n",
    "    print(\"ENter Natural number\")\n",
    "else:\n",
    "    sum=0\n",
    "    while n>0:\n",
    "        sum=sum+n\n",
    "        n=n-1\n",
    "    print(\"Sum is \",sum)"
   ]
  }
 ],
 "metadata": {
  "kernelspec": {
   "display_name": "Python 3 (ipykernel)",
   "language": "python",
   "name": "python3"
  },
  "language_info": {
   "codemirror_mode": {
    "name": "ipython",
    "version": 3
   },
   "file_extension": ".py",
   "mimetype": "text/x-python",
   "name": "python",
   "nbconvert_exporter": "python",
   "pygments_lexer": "ipython3",
   "version": "3.9.12"
  }
 },
 "nbformat": 4,
 "nbformat_minor": 5
}
