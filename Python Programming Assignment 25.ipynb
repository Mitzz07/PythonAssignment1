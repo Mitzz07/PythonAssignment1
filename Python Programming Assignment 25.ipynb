{
 "cells": [
  {
   "cell_type": "markdown",
   "id": "8029bdab",
   "metadata": {},
   "source": [
    "Question1\n",
    "Create a function that takes three integer arguments (a, b, c) and returns the amount of\n",
    "integers which are of equal value.\n",
    "Examples\n",
    "equal(3, 4, 3) ➞ 2\n",
    "equal(1, 1, 1) ➞ 3\n",
    "equal(3, 4, 1) ➞ 0\n",
    "Notes\n",
    "Your function must return 0, 2 or 3."
   ]
  },
  {
   "cell_type": "code",
   "execution_count": 7,
   "id": "85933bb3",
   "metadata": {},
   "outputs": [],
   "source": [
    "def equal_val(a,b,c):\n",
    "    if a == b == c :\n",
    "        print(\"3\")\n",
    "    elif a==b or b==c or a==c:\n",
    "        print('2')\n",
    "    else :\n",
    "        print('0')"
   ]
  },
  {
   "cell_type": "code",
   "execution_count": 8,
   "id": "5bb502d8",
   "metadata": {},
   "outputs": [
    {
     "name": "stdout",
     "output_type": "stream",
     "text": [
      "2\n"
     ]
    }
   ],
   "source": [
    "equal_val(2,1,2)"
   ]
  },
  {
   "cell_type": "markdown",
   "id": "d8c8388b",
   "metadata": {},
   "source": [
    "Question2\n",
    "Write a function that converts a dictionary into a list of keys-values tuples.\n",
    "Examples:\n",
    "dict_to_list({ \"D\": 1, \"B\": 2, \"C\": 3 }) ➞ [(\"B\", 2), (\"C\", 3), (\"D\", 1)] dict_to_list({ \"likes\": 2, \"dislikes\": 3, \"followers\": 10 }) ➞ [(\"dislikes\", 3), (\"followers\", 10), (\"likes\", 2)]\n",
    "\n",
    "Notes:\n",
    "Return the elements in the list in alphabetical order."
   ]
  },
  {
   "cell_type": "code",
   "execution_count": 16,
   "id": "727535bc",
   "metadata": {},
   "outputs": [],
   "source": [
    "def dict_to_tup(dict1):\n",
    "    l=[]\n",
    "    for keys,values in dict1.items():\n",
    "        l.append((keys,values))\n",
    "    return l    "
   ]
  },
  {
   "cell_type": "code",
   "execution_count": 17,
   "id": "cb633cb9",
   "metadata": {},
   "outputs": [
    {
     "data": {
      "text/plain": [
       "[('A', 1), ('B', 2), ('C', 3), ('D', 4)]"
      ]
     },
     "execution_count": 17,
     "metadata": {},
     "output_type": "execute_result"
    }
   ],
   "source": [
    "dict_to_tup({'A':1,'B':2,'C':3,'D':4})"
   ]
  },
  {
   "cell_type": "markdown",
   "id": "30aa4aad",
   "metadata": {},
   "source": [
    "Question3\n",
    "Write a function that creates a dictionary with each (key, value) pair being the (lower case, upper case) versions of a letter, respectively.\n",
    "Examples:\n",
    "mapping([\"p\", \"s\"]) ➞ { \"p\": \"P\", \"s\": \"S\" }\n",
    "mapping([\"a\", \"b\", \"c\"]) ➞ { \"a\": \"A\", \"b\": \"B\", \"c\": \"C\" }\n",
    "mapping([\"a\", \"v\", \"y\", \"z\"]) ➞ { \"a\": \"A\", \"v\": \"V\", \"y\": \"Y\", \"z\": \"Z\" }\n",
    "\n",
    "Notes:\n",
    "All of the letters in the input list will always be lowercase."
   ]
  },
  {
   "cell_type": "code",
   "execution_count": 21,
   "id": "90462063",
   "metadata": {},
   "outputs": [],
   "source": [
    "def mapping(lst):\n",
    "    dict1={}\n",
    "    for i in lst:\n",
    "        dict1[i] = i.upper()\n",
    "    return dict1    "
   ]
  },
  {
   "cell_type": "code",
   "execution_count": 22,
   "id": "120deaba",
   "metadata": {},
   "outputs": [
    {
     "data": {
      "text/plain": [
       "{'a': 'A', 'b': 'B', 'c': 'C', 'd': 'D'}"
      ]
     },
     "execution_count": 22,
     "metadata": {},
     "output_type": "execute_result"
    }
   ],
   "source": [
    "mapping(['a','b','c','d'])"
   ]
  },
  {
   "cell_type": "markdown",
   "id": "8f19fc9c",
   "metadata": {},
   "source": [
    "Question4\n",
    "Write a function, that replaces all vowels in a string with a specified vowel.\n",
    "Examples:\n",
    "vow_replace(\"apples and bananas\", \"u\") ➞ \"upplus und bununus\"\n",
    "vow_replace(\"cheese casserole\", \"o\") ➞ \"chooso cossorolo\"\n",
    "vow_replace(\"stuffed jalapeno poppers\", \"e\") ➞ \"steffed jelepene peppers\"\n",
    "\n",
    "Notes:\n",
    "All words will be lowercase. Y is not considered a vowel."
   ]
  },
  {
   "cell_type": "code",
   "execution_count": 26,
   "id": "db829987",
   "metadata": {},
   "outputs": [],
   "source": [
    "def vowel_rep(string, v):\n",
    "    vowels= ['a','e','i','o','u']\n",
    "    str1=''\n",
    "    for i in str(string):\n",
    "        if i in vowels:\n",
    "            str1=str1 + v\n",
    "        else :\n",
    "            str1=str1 + i\n",
    "    return str1         "
   ]
  },
  {
   "cell_type": "code",
   "execution_count": 27,
   "id": "5441f65f",
   "metadata": {},
   "outputs": [
    {
     "data": {
      "text/plain": [
       "'my numu us lukhun'"
      ]
     },
     "execution_count": 27,
     "metadata": {},
     "output_type": "execute_result"
    }
   ],
   "source": [
    "vowel_rep('my name is lakhan','u')"
   ]
  },
  {
   "cell_type": "markdown",
   "id": "48087b36",
   "metadata": {},
   "source": [
    "Question5\n",
    "Create a function that takes a string as input and capitalizes a letter if its ASCII code is even and returns its lower case version if its ASCII code is odd.\n",
    "Examples:\n",
    "ascii_capitalize(\"to be or not to be!\") ➞ \"To Be oR NoT To Be!\"\n",
    "ascii_capitalize(\"THE LITTLE MERMAID\") ➞ \"THe LiTTLe meRmaiD\"\n",
    "ascii_capitalize(\"Oh what a beautiful morning.\") ➞ \"oH wHaT a BeauTiFuL moRNiNg.\""
   ]
  },
  {
   "cell_type": "code",
   "execution_count": 28,
   "id": "30912db3",
   "metadata": {},
   "outputs": [],
   "source": [
    "def ascii(string):\n",
    "    str1=''\n",
    "    for i in string.lower():\n",
    "        if (ord(i) % 2 ==0):\n",
    "            str1 = str1 + i.upper()\n",
    "        else :\n",
    "            str1 = str1 + i.lower()\n",
    "    return str1        "
   ]
  },
  {
   "cell_type": "code",
   "execution_count": 34,
   "id": "d8eb0e6c",
   "metadata": {},
   "outputs": [
    {
     "data": {
      "text/plain": [
       "'Basic eDucaTioN is musT iN moDeRN eRa'"
      ]
     },
     "execution_count": 34,
     "metadata": {},
     "output_type": "execute_result"
    }
   ],
   "source": [
    "ascii('basic education is must in modern era')"
   ]
  }
 ],
 "metadata": {
  "kernelspec": {
   "display_name": "Python 3 (ipykernel)",
   "language": "python",
   "name": "python3"
  },
  "language_info": {
   "codemirror_mode": {
    "name": "ipython",
    "version": 3
   },
   "file_extension": ".py",
   "mimetype": "text/x-python",
   "name": "python",
   "nbconvert_exporter": "python",
   "pygments_lexer": "ipython3",
   "version": "3.9.12"
  }
 },
 "nbformat": 4,
 "nbformat_minor": 5
}
