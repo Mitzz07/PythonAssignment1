{
 "cells": [
  {
   "cell_type": "markdown",
   "id": "c6efdfc1",
   "metadata": {},
   "source": [
    "Question1.\n",
    "Create a function that takes a list of non-negative integers and strings and return a new list without the strings ?\n",
    "Examples:\n",
    "filter_list([1, 2, \"a\", \"b\"]) ➞ [1, 2]\n",
    "filter_list([1, \"a\", \"b\", 0, 15]) ➞ [1, 0, 15]\n",
    "filter_list([1, 2, \"aasf\", \"1\", \"123\", 123]) ➞ [1, 2, 123]"
   ]
  },
  {
   "cell_type": "code",
   "execution_count": 3,
   "id": "7f2c9886",
   "metadata": {},
   "outputs": [],
   "source": [
    "def update_list(lst):\n",
    "    l=[]\n",
    "    for i in lst:\n",
    "        if type(i) == int:\n",
    "            l.append(i)\n",
    "    return l        "
   ]
  },
  {
   "cell_type": "code",
   "execution_count": 4,
   "id": "01df1c12",
   "metadata": {},
   "outputs": [
    {
     "data": {
      "text/plain": [
       "[4, 23, 41, 21, 23]"
      ]
     },
     "execution_count": 4,
     "metadata": {},
     "output_type": "execute_result"
    }
   ],
   "source": [
    "update_list([4,'ffw','efw',23,41,21,'ksfs',23,'dd'])"
   ]
  },
  {
   "cell_type": "markdown",
   "id": "08062dff",
   "metadata": {},
   "source": [
    "Question2. \n",
    "The \"Reverser\" takes a string as input and returns that string in reverse order, with the opposite case ?\n",
    "Examples:\n",
    "reverse(\"Hello World\") ➞ \"DLROw OLLEh\"\n",
    "reverse(\"ReVeRsE\") ➞ \"eSrEvEr\"\n",
    "reverse(\"Radar\") ➞ \"RADAr\""
   ]
  },
  {
   "cell_type": "code",
   "execution_count": 15,
   "id": "7f659840",
   "metadata": {},
   "outputs": [],
   "source": [
    "def reverser(string):\n",
    "    str1=string[::-1]\n",
    "    str2=str1.swapcase()\n",
    "    return str2"
   ]
  },
  {
   "cell_type": "code",
   "execution_count": 16,
   "id": "3ddb6b11",
   "metadata": {},
   "outputs": [
    {
     "data": {
      "text/plain": [
       "'yAD eCiN a EVAh'"
      ]
     },
     "execution_count": 16,
     "metadata": {},
     "output_type": "execute_result"
    }
   ],
   "source": [
    "reverser('Have A nIcE daY')"
   ]
  },
  {
   "cell_type": "markdown",
   "id": "7656e965",
   "metadata": {},
   "source": [
    "Question 3\n",
    "You can assign variables from lists like this:\n",
    "lst = [1, 2, 3, 4, 5, 6]\n",
    "first = lst[0]\n",
    "middle = lst[1:-1]\n",
    "last = lst[-1]\n",
    "print(first) ➞ outputs 1\n",
    "print(middle) ➞ outputs [2, 3, 4, 5]\n",
    "print(last) ➞ outputs 6\n",
    "With Python 3, you can assign variables from lists in a much more succinct way. Create\n",
    "variables first, middle and last from the given list using destructuring assignment\n",
    "(check the Resources tab for some examples), where:\n",
    "first ➞ 1\n",
    "middle ➞ [2, 3, 4, 5]\n",
    "last ➞ 6\n",
    "\n",
    "Your task is to unpack the list writeyourcodehere into three variables, being first,\n",
    "middle, and last, with middle being everything in between the first and last element. Then\n",
    "print all three variables."
   ]
  },
  {
   "cell_type": "code",
   "execution_count": 17,
   "id": "92460ad4",
   "metadata": {},
   "outputs": [
    {
     "name": "stdout",
     "output_type": "stream",
     "text": [
      "1\n",
      "[2, 3, 4, 5]\n",
      "6\n"
     ]
    }
   ],
   "source": [
    "first, *middle, last = [1,2,3,4,5,6]\n",
    "print(first)\n",
    "print(middle)\n",
    "print(last)"
   ]
  },
  {
   "cell_type": "markdown",
   "id": "3b75965e",
   "metadata": {},
   "source": [
    "Question4.\n",
    "Write a function that calculates the factorial of a number recursively.\n",
    "Examples:\n",
    "factorial(5) ➞ 120\n",
    "factorial(3) ➞ 6\n",
    "factorial(1) ➞ 1\n",
    "factorial(0) ➞ 1"
   ]
  },
  {
   "cell_type": "code",
   "execution_count": 18,
   "id": "60c1e566",
   "metadata": {},
   "outputs": [],
   "source": [
    "def factorial(n):\n",
    "    if n == 0 :\n",
    "        return 1\n",
    "    else :\n",
    "        return (n * factorial(n-1))"
   ]
  },
  {
   "cell_type": "code",
   "execution_count": 19,
   "id": "0892578a",
   "metadata": {},
   "outputs": [
    {
     "data": {
      "text/plain": [
       "1"
      ]
     },
     "execution_count": 19,
     "metadata": {},
     "output_type": "execute_result"
    }
   ],
   "source": [
    "factorial(0)"
   ]
  },
  {
   "cell_type": "code",
   "execution_count": 20,
   "id": "0f2280c3",
   "metadata": {},
   "outputs": [
    {
     "data": {
      "text/plain": [
       "120"
      ]
     },
     "execution_count": 20,
     "metadata": {},
     "output_type": "execute_result"
    }
   ],
   "source": [
    "factorial(5)"
   ]
  },
  {
   "cell_type": "markdown",
   "id": "f3b1d358",
   "metadata": {},
   "source": [
    "Question5.\n",
    "Write a function that moves all elements of one type to the end of the list.\n",
    "Examples:\n",
    "move_to_end([1, 3, 2, 4, 4, 1], 1) ➞ [3, 2, 4, 4, 1, 1]\n",
    "#Move all the 1s to the end of the array.\n",
    "move_to_end([7, 8, 9, 1, 2, 3, 4], 9) ➞ [7, 8, 1, 2, 3, 4, 9]\n",
    "move_to_end([\"a\", \"a\", \"a\", \"b\"], \"a\") ➞ [\"b\", \"a\", \"a\", \"a\"]"
   ]
  },
  {
   "cell_type": "code",
   "execution_count": 31,
   "id": "21f6cf56",
   "metadata": {},
   "outputs": [],
   "source": [
    "def move_to_end(lst,n):\n",
    "    first_end=[]\n",
    "    second_end=[]\n",
    "    for i in lst:\n",
    "        if i == n:\n",
    "            second_end.append(i)\n",
    "        else :\n",
    "            first_end.append(i)  \n",
    "    first_end.extend(second_end)\n",
    "    return first_end"
   ]
  },
  {
   "cell_type": "code",
   "execution_count": 32,
   "id": "f1d8e8e6",
   "metadata": {},
   "outputs": [
    {
     "data": {
      "text/plain": [
       "[4, 5, 6, 7, 3, 3, 3]"
      ]
     },
     "execution_count": 32,
     "metadata": {},
     "output_type": "execute_result"
    }
   ],
   "source": [
    "move_to_end([3,4,3,5,6,7,3],3)"
   ]
  }
 ],
 "metadata": {
  "kernelspec": {
   "display_name": "Python 3 (ipykernel)",
   "language": "python",
   "name": "python3"
  },
  "language_info": {
   "codemirror_mode": {
    "name": "ipython",
    "version": 3
   },
   "file_extension": ".py",
   "mimetype": "text/x-python",
   "name": "python",
   "nbconvert_exporter": "python",
   "pygments_lexer": "ipython3",
   "version": "3.9.12"
  }
 },
 "nbformat": 4,
 "nbformat_minor": 5
}
