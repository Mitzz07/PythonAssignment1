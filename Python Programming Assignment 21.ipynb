{
 "cells": [
  {
   "cell_type": "markdown",
   "id": "5fa0bd08",
   "metadata": {},
   "source": [
    "Question1\n",
    "Write a function that takes a list and a number as arguments. Add the number to the end of\n",
    "the list, then remove the first element of the list. The function should then return the updated\n",
    "list.\n",
    "Examples\n",
    "next_in_line([5, 6, 7, 8, 9], 1) ➞ [6, 7, 8, 9, 1]\n",
    "next_in_line([7, 6, 3, 23, 17], 10) ➞ [6, 3, 23, 17, 10]\n",
    "next_in_line([1, 10, 20, 42 ], 6) ➞ [10, 20, 42, 6]\n",
    "next_in_line([], 6) ➞ &quot;No list has been selected&quot;"
   ]
  },
  {
   "cell_type": "code",
   "execution_count": 3,
   "id": "e6aeb90d",
   "metadata": {},
   "outputs": [],
   "source": [
    "def list_num(lst,num):\n",
    "    if len(lst) > 1 :\n",
    "        lst.append(num)\n",
    "        lst.remove(lst[0])\n",
    "        return lst\n",
    "    else :\n",
    "        print(\"Your list should contain more than 1 element in it\")"
   ]
  },
  {
   "cell_type": "code",
   "execution_count": 4,
   "id": "29b63c87",
   "metadata": {},
   "outputs": [
    {
     "data": {
      "text/plain": [
       "[3, 4, 5, 6, 7, 9]"
      ]
     },
     "execution_count": 4,
     "metadata": {},
     "output_type": "execute_result"
    }
   ],
   "source": [
    "list_num([2,3,4,5,6,7],9)"
   ]
  },
  {
   "cell_type": "markdown",
   "id": "c5764615",
   "metadata": {},
   "source": [
    "Question2\n",
    "Create the function that takes a list of dictionaries and returns the sum of people's budgets.\n",
    "Examples:\n",
    "get_budgets([ { \"name\": \"John\", \"age\": 21, \"budget\": 23000 }, { \"name\": \"Steve\", \"age\": 32, \"budget\": 40000 }, { \"name\": \"Martin\", \"age\": 16, \"budget\": 2700 } ]) ➞ 65700\n",
    "\n",
    "get_budgets([ { \"name\": \"John\", \"age\": 21, \"budget\": 29000 }, { \"name\": \"Steve\", \"age\": 32, \"budget\": 32000 }, { \"name\": \"Martin\", \"age\": 16, \"budget\": 1600 } ]) ➞ 62600"
   ]
  },
  {
   "cell_type": "code",
   "execution_count": 5,
   "id": "19d235c2",
   "metadata": {},
   "outputs": [],
   "source": [
    "def total_budget(lst):\n",
    "    sum=0\n",
    "    for i in lst:\n",
    "        sum = sum + i['budget']\n",
    "    return sum"
   ]
  },
  {
   "cell_type": "code",
   "execution_count": 6,
   "id": "0d437e52",
   "metadata": {},
   "outputs": [
    {
     "data": {
      "text/plain": [
       "5000"
      ]
     },
     "execution_count": 6,
     "metadata": {},
     "output_type": "execute_result"
    }
   ],
   "source": [
    "total_budget([{'name':'mitzz','budget':3000},{\"name\": \"aman\", \"budget\":2000}])"
   ]
  },
  {
   "cell_type": "markdown",
   "id": "a9735ac7",
   "metadata": {},
   "source": [
    "Question3\n",
    "Create a function that takes a string and returns a string with its letters in alphabetical order.\n",
    "Examples:\n",
    "alphabet_soup(\"hello\") ➞ \"ehllo\"\n",
    "alphabet_soup(\"edabit\") ➞ \"abdeit\"\n",
    "alphabet_soup(\"hacker\") ➞ \"acehkr\"\n",
    "alphabet_soup(\"geek\") ➞ \"eegk\"\n",
    "alphabet_soup(\"javascript\") ➞ \"aacijprstv\""
   ]
  },
  {
   "cell_type": "code",
   "execution_count": 16,
   "id": "29c9445a",
   "metadata": {},
   "outputs": [],
   "source": [
    "def string_alpha(string):\n",
    "    for i in string.split():\n",
    "        str1=sorted(i)\n",
    "        str2=''.join(str1)\n",
    "    return str2"
   ]
  },
  {
   "cell_type": "code",
   "execution_count": 17,
   "id": "71e2f46e",
   "metadata": {},
   "outputs": [
    {
     "data": {
      "text/plain": [
       "'aahkln'"
      ]
     },
     "execution_count": 17,
     "metadata": {},
     "output_type": "execute_result"
    }
   ],
   "source": [
    "string_alpha('lakhan')"
   ]
  },
  {
   "cell_type": "markdown",
   "id": "43935ece",
   "metadata": {},
   "source": [
    "Question4\n",
    "What will be the value of your investment at the end of the 10 year period?\n",
    "Create a function that accepts the principal p, the term in years t, the interest rate r, and the number of compounding periods per year n. The function returns the value at the end of term rounded to the nearest cent.\n",
    "\n",
    "For the example above:\n",
    "compound_interest(10000, 10, 0.06, 12) ➞ 18193.97\n",
    "Note that the interest rate is given as a decimal and n=12 because with monthly compounding there are 12 periods per year. Compounding can also be done annually, quarterly, weekly, or daily.\n",
    "\n",
    "Examples:\n",
    "compound_interest(100, 1, 0.05, 1) ➞ 105.0\n",
    "compound_interest(3500, 15, 0.1, 4) ➞ 15399.26\n",
    "compound_interest(100000, 20, 0.15, 365) ➞ 2007316.26"
   ]
  },
  {
   "cell_type": "code",
   "execution_count": 18,
   "id": "c7a68c18",
   "metadata": {},
   "outputs": [],
   "source": [
    "def compound_interest(p,t,r,n):    #(principal,years,rate,period)\n",
    "    CompoundInterest=p*(1+(r/n))**(n*t)\n",
    "    return CompoundInterest"
   ]
  },
  {
   "cell_type": "code",
   "execution_count": 21,
   "id": "3e05f16b",
   "metadata": {},
   "outputs": [
    {
     "data": {
      "text/plain": [
       "155292.4104172106"
      ]
     },
     "execution_count": 21,
     "metadata": {},
     "output_type": "execute_result"
    }
   ],
   "source": [
    "compound_interest(50000,10,0.12,1)  #period is annually so n=1"
   ]
  },
  {
   "cell_type": "code",
   "execution_count": 22,
   "id": "d406906f",
   "metadata": {},
   "outputs": [
    {
     "data": {
      "text/plain": [
       "163101.8895999539"
      ]
     },
     "execution_count": 22,
     "metadata": {},
     "output_type": "execute_result"
    }
   ],
   "source": [
    "compound_interest(50000,10,0.12,4)  #period is quartly so n=4"
   ]
  },
  {
   "cell_type": "code",
   "execution_count": 23,
   "id": "bb623fca",
   "metadata": {},
   "outputs": [
    {
     "data": {
      "text/plain": [
       "164051.53941827072"
      ]
     },
     "execution_count": 23,
     "metadata": {},
     "output_type": "execute_result"
    }
   ],
   "source": [
    "compound_interest(50000,10,0.12,6)  #period is half-yearly so n=6"
   ]
  },
  {
   "cell_type": "markdown",
   "id": "0fe8d39d",
   "metadata": {},
   "source": [
    "Question4\n",
    "Write a function that takes a list of elements and returns only the integers.\n",
    "Examples:\n",
    "return_only_integer([9, 2, \"space\", \"car\", \"lion\", 16]) ➞ [9, 2, 16]\n",
    "return_only_integer([\"hello\", 81, \"basketball\", 123, \"fox\"]) ➞ [81, 123]\n",
    "return_only_integer([10, \"121\", 56, 20, \"car\", 3, \"lion\"]) ➞ [10, 56, 20,3]\n",
    "return_only_integer([\"String\", True, 3.3, 1]) ➞ [1]"
   ]
  },
  {
   "cell_type": "code",
   "execution_count": 45,
   "id": "2cee45c2",
   "metadata": {},
   "outputs": [],
   "source": [
    "def int_list(lst):\n",
    "    lst1=[]\n",
    "    for i in range(0,len(lst)):\n",
    "        if type(i)==int:\n",
    "            lst1.append(i) \n",
    "    print('List of the Integers in the given list is : ' ,lst1 )     "
   ]
  },
  {
   "cell_type": "code",
   "execution_count": 46,
   "id": "69394514",
   "metadata": {},
   "outputs": [
    {
     "name": "stdout",
     "output_type": "stream",
     "text": [
      "List of the Integers in the given list is :  [0, 1, 2, 3, 4, 5, 6, 7]\n"
     ]
    }
   ],
   "source": [
    "int_list([2,3,'low',23,'honey',93,'ravan',4993])"
   ]
  }
 ],
 "metadata": {
  "kernelspec": {
   "display_name": "Python 3 (ipykernel)",
   "language": "python",
   "name": "python3"
  },
  "language_info": {
   "codemirror_mode": {
    "name": "ipython",
    "version": 3
   },
   "file_extension": ".py",
   "mimetype": "text/x-python",
   "name": "python",
   "nbconvert_exporter": "python",
   "pygments_lexer": "ipython3",
   "version": "3.9.12"
  }
 },
 "nbformat": 4,
 "nbformat_minor": 5
}
