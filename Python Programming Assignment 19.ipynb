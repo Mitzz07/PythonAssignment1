{
 "cells": [
  {
   "cell_type": "markdown",
   "id": "7c830e49",
   "metadata": {},
   "source": [
    "Question1.\n",
    "Create a function that takes a string and returns a string in which each character is repeated once.\n",
    "Examples:\n",
    "double_char(\"String\") ➞ \"SSttrriinngg\"\n",
    "double_char(\"Hello World!\") ➞ \"HHeelllloo WWoorrlldd!!\"\n",
    "doublechar(\"1234!_\") ➞ \"11223344!!__\""
   ]
  },
  {
   "cell_type": "code",
   "execution_count": 19,
   "id": "8c00bb23",
   "metadata": {},
   "outputs": [],
   "source": [
    "def repeat_char(string):\n",
    "    str1=''\n",
    "    for i in str(string):\n",
    "        str1= str1 + (i+i)\n",
    "    return str1    "
   ]
  },
  {
   "cell_type": "code",
   "execution_count": 20,
   "id": "810dce04",
   "metadata": {},
   "outputs": [
    {
     "data": {
      "text/plain": [
       "'rreelliiaannccee'"
      ]
     },
     "execution_count": 20,
     "metadata": {},
     "output_type": "execute_result"
    }
   ],
   "source": [
    "repeat_char('reliance')"
   ]
  },
  {
   "cell_type": "markdown",
   "id": "21d05351",
   "metadata": {},
   "source": [
    "Question2.\n",
    "Create a function that reverses a boolean value and returns the string \"boolean expected\" if another variable type is given.\n",
    "Examples:\n",
    "reverse(True) ➞ False\n",
    "reverse(False) ➞ True\n",
    "reverse(0) ➞ \"boolean expected\"\n",
    "reverse(None) ➞ \"boolean expected\""
   ]
  },
  {
   "cell_type": "code",
   "execution_count": 50,
   "id": "0b2ba6a0",
   "metadata": {},
   "outputs": [],
   "source": [
    "def rev_bool(bool1):\n",
    "    if type(bool1) == bool :\n",
    "        return not bool\n",
    "    else : \n",
    "        return 'boolean expected'"
   ]
  },
  {
   "cell_type": "code",
   "execution_count": 51,
   "id": "f96c6094",
   "metadata": {},
   "outputs": [
    {
     "data": {
      "text/plain": [
       "False"
      ]
     },
     "execution_count": 51,
     "metadata": {},
     "output_type": "execute_result"
    }
   ],
   "source": [
    "rev_bool(True)"
   ]
  },
  {
   "cell_type": "code",
   "execution_count": 52,
   "id": "4a46f70e",
   "metadata": {},
   "outputs": [
    {
     "data": {
      "text/plain": [
       "'boolean expected'"
      ]
     },
     "execution_count": 52,
     "metadata": {},
     "output_type": "execute_result"
    }
   ],
   "source": [
    "rev_bool(0)"
   ]
  },
  {
   "cell_type": "markdown",
   "id": "986d5120",
   "metadata": {},
   "source": [
    "Question3.\n",
    "Create a function that returns the thickness (in meters) of a piece of paper after folding it n number of times. The paper starts off with a thickness of 0.5mm.\n",
    "Examples:\n",
    "num_layers(1) ➞ \"0.001m\" # Paper folded once is 1mm (equal to 0.001m) num_layers(4) ➞ \"0.008m\" # Paper folded 4 times is 8mm (equal to 0.008m) num_layers(21) ➞ \"1048.576m\" # Paper folded 21 times is 1048576mm (equal to 1048.576m)"
   ]
  },
  {
   "cell_type": "code",
   "execution_count": 53,
   "id": "3b12b7ea",
   "metadata": {},
   "outputs": [],
   "source": [
    "def fold(n):\n",
    "    t_ness= 0.5\n",
    "    for i in range(n):\n",
    "        t_ness = t_ness * 2\n",
    "    return t_ness/1000"
   ]
  },
  {
   "cell_type": "code",
   "execution_count": 58,
   "id": "0a72ead5",
   "metadata": {},
   "outputs": [
    {
     "data": {
      "text/plain": [
       "0.008"
      ]
     },
     "execution_count": 58,
     "metadata": {},
     "output_type": "execute_result"
    }
   ],
   "source": [
    "fold(4)"
   ]
  },
  {
   "cell_type": "code",
   "execution_count": 59,
   "id": "1a1d126d",
   "metadata": {},
   "outputs": [
    {
     "data": {
      "text/plain": [
       "1048.576"
      ]
     },
     "execution_count": 59,
     "metadata": {},
     "output_type": "execute_result"
    }
   ],
   "source": [
    "fold(21)"
   ]
  },
  {
   "cell_type": "markdown",
   "id": "42b78110",
   "metadata": {},
   "source": [
    "Question4.\n",
    "Create a function that takes a single string as argument and returns an ordered list containing the indices of all capital letters in the string.\n",
    "Examples:\n",
    "index_of_caps(\"eDaBiT\") ➞ [1, 3, 5]\n",
    "index_of_caps(\"eQuINoX\") ➞ [1, 3, 4, 6]\n",
    "index_of_caps(\"determine\") ➞ []\n",
    "index_of_caps(\"STRIKE\") ➞ [0, 1, 2, 3, 4, 5]\n",
    "index_of_caps(\"sUn\") ➞ [1]"
   ]
  },
  {
   "cell_type": "code",
   "execution_count": 63,
   "id": "3391b693",
   "metadata": {},
   "outputs": [],
   "source": [
    "def index_cap(string):\n",
    "    l=[]\n",
    "    for i in str(string):\n",
    "        if i==i.upper():\n",
    "            l.append(string.index(i))\n",
    "    return l"
   ]
  },
  {
   "cell_type": "code",
   "execution_count": 64,
   "id": "c8b37d2e",
   "metadata": {},
   "outputs": [
    {
     "data": {
      "text/plain": [
       "[2, 3, 7]"
      ]
     },
     "execution_count": 64,
     "metadata": {},
     "output_type": "execute_result"
    }
   ],
   "source": [
    "index_cap('hsJSnsjNsj')"
   ]
  },
  {
   "cell_type": "markdown",
   "id": "98d1321e",
   "metadata": {},
   "source": [
    "Question5\n",
    "Using list comprehensions, create a function that finds all even numbers from 1 to the given number.\n",
    "Examples:\n",
    "find_even_nums(8) ➞ [2, 4, 6, 8]\n",
    "find_even_nums(4) ➞ [2, 4]\n",
    "find_even_nums(2) ➞ [2]"
   ]
  },
  {
   "cell_type": "code",
   "execution_count": 67,
   "id": "b338979c",
   "metadata": {},
   "outputs": [],
   "source": [
    "def even_fun(n):\n",
    "    l=[]\n",
    "    for i in range(1,n+1):\n",
    "        if i % 2 == 0 :\n",
    "            l.append(i)\n",
    "    return l        "
   ]
  },
  {
   "cell_type": "code",
   "execution_count": 69,
   "id": "29db8306",
   "metadata": {},
   "outputs": [
    {
     "data": {
      "text/plain": [
       "[2, 4, 6, 8, 10, 12, 14, 16, 18]"
      ]
     },
     "execution_count": 69,
     "metadata": {},
     "output_type": "execute_result"
    }
   ],
   "source": [
    "even_fun(19)"
   ]
  }
 ],
 "metadata": {
  "kernelspec": {
   "display_name": "Python 3 (ipykernel)",
   "language": "python",
   "name": "python3"
  },
  "language_info": {
   "codemirror_mode": {
    "name": "ipython",
    "version": 3
   },
   "file_extension": ".py",
   "mimetype": "text/x-python",
   "name": "python",
   "nbconvert_exporter": "python",
   "pygments_lexer": "ipython3",
   "version": "3.9.12"
  }
 },
 "nbformat": 4,
 "nbformat_minor": 5
}
