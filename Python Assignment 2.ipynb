{
 "cells": [
  {
   "cell_type": "markdown",
   "id": "2012e299",
   "metadata": {},
   "source": [
    "QUE 1.What are the two values of the Boolean data type? How do you write them?\n",
    "\n",
    "Two values of Boolean datatypes are True and False\n",
    "we wrete them as 'True' and 'False'."
   ]
  },
  {
   "cell_type": "markdown",
   "id": "1a4e7ef9",
   "metadata": {},
   "source": [
    "QUE 2.What are the three different types of Boolean operators?\n",
    "\n",
    "Three different types of operators are 'AND' , 'OR' , 'NOT'."
   ]
  },
  {
   "cell_type": "markdown",
   "id": "e39fc4f5",
   "metadata": {},
   "source": [
    "QUE  3. Make a list of each Boolean operator's truth tables (i.e. every possible combination of Boolean\n",
    "values for the operator and what it evaluate ).\n",
    "\n",
    "AND operator\n",
    "True and True is True \n",
    "True and False is False\n",
    "False and False is False\n",
    "False and False is False\n",
    "\n",
    "OR operator\n",
    "True or True is True\n",
    "True or False is True\n",
    "False or True is True\n",
    "False or False is False\n",
    "\n",
    "NOT operator\n",
    "not True is Flase \n",
    "not False is True\n",
    "\n",
    "Truth Tables\n",
    "Truth Table for AND\n",
    "A B output\n",
    "0 0 0\n",
    "0 1 0\n",
    "1 0 0\n",
    "1 1 1\n",
    "Truth Table for OR\n",
    "A B output\n",
    "0 0 0\n",
    "0 1 1\n",
    "1 0 1\n",
    "1 1 1\n",
    "Truth Table for NOT\n",
    "A output\n",
    "0 1\n",
    "1 0"
   ]
  },
  {
   "cell_type": "markdown",
   "id": "53637962",
   "metadata": {},
   "source": [
    "QUE 4. What are the values of the following expressions?\n",
    "(5 > 4) and (3 == 5)\n",
    "not (5 > 4)\n",
    "(5 > 4) or (3 == 5)\n",
    "(True and True) and (True == False)\n",
    "(not False) or (not True)\n",
    "not ((5 > 4) or (3 == 5))"
   ]
  },
  {
   "cell_type": "code",
   "execution_count": 8,
   "id": "bfb2fafa",
   "metadata": {},
   "outputs": [
    {
     "data": {
      "text/plain": [
       "False"
      ]
     },
     "execution_count": 8,
     "metadata": {},
     "output_type": "execute_result"
    }
   ],
   "source": [
    "(5 > 4) and (3 == 5)"
   ]
  },
  {
   "cell_type": "code",
   "execution_count": 9,
   "id": "8241784d",
   "metadata": {},
   "outputs": [
    {
     "data": {
      "text/plain": [
       "False"
      ]
     },
     "execution_count": 9,
     "metadata": {},
     "output_type": "execute_result"
    }
   ],
   "source": [
    "not (5 > 4)"
   ]
  },
  {
   "cell_type": "code",
   "execution_count": 10,
   "id": "1398721d",
   "metadata": {},
   "outputs": [
    {
     "data": {
      "text/plain": [
       "True"
      ]
     },
     "execution_count": 10,
     "metadata": {},
     "output_type": "execute_result"
    }
   ],
   "source": [
    "(5 > 4) or (3 == 5)"
   ]
  },
  {
   "cell_type": "code",
   "execution_count": 11,
   "id": "d8308913",
   "metadata": {},
   "outputs": [
    {
     "data": {
      "text/plain": [
       "False"
      ]
     },
     "execution_count": 11,
     "metadata": {},
     "output_type": "execute_result"
    }
   ],
   "source": [
    "(True and True) and (True == False)"
   ]
  },
  {
   "cell_type": "code",
   "execution_count": 12,
   "id": "0ae567f1",
   "metadata": {},
   "outputs": [
    {
     "data": {
      "text/plain": [
       "True"
      ]
     },
     "execution_count": 12,
     "metadata": {},
     "output_type": "execute_result"
    }
   ],
   "source": [
    "(not False) or (not True)"
   ]
  },
  {
   "cell_type": "code",
   "execution_count": 13,
   "id": "fd43a753",
   "metadata": {},
   "outputs": [
    {
     "data": {
      "text/plain": [
       "False"
      ]
     },
     "execution_count": 13,
     "metadata": {},
     "output_type": "execute_result"
    }
   ],
   "source": [
    "not ((5 > 4) or (3 == 5))"
   ]
  },
  {
   "cell_type": "markdown",
   "id": "050e09b8",
   "metadata": {},
   "source": [
    "QUE 5. What are the six comparison operators?\n",
    "\n",
    "==, !=, <, >, <=, and >="
   ]
  },
  {
   "cell_type": "markdown",
   "id": "cd89880b",
   "metadata": {},
   "source": [
    "QUE 6. How do you tell the difference between the equal to and assignment operators?Describe acondition and when you would use one.\n",
    "\n",
    "The “=” is an assignment operator is used to assign the value on the right to the variable on the left. The '==' operator checks whether the two given operands are equal or not."
   ]
  },
  {
   "cell_type": "code",
   "execution_count": 14,
   "id": "8a874ac5",
   "metadata": {},
   "outputs": [
    {
     "name": "stdout",
     "output_type": "stream",
     "text": [
      "10\n"
     ]
    }
   ],
   "source": [
    "#example\n",
    "# Assignment operator\n",
    "a = 10    #here a is assign some value ,so it is assgnment operator\n",
    "print(a)"
   ]
  },
  {
   "cell_type": "code",
   "execution_count": 15,
   "id": "f94ee447",
   "metadata": {},
   "outputs": [
    {
     "name": "stdout",
     "output_type": "stream",
     "text": [
      "False\n"
     ]
    }
   ],
   "source": [
    "#equal to operator\n",
    "if 10==20:\n",
    "    print('True')\n",
    "else:\n",
    "    print('False')"
   ]
  },
  {
   "cell_type": "markdown",
   "id": "25494b1e",
   "metadata": {},
   "source": [
    "QUE 7. Identify the three blocks in this code:"
   ]
  },
  {
   "cell_type": "code",
   "execution_count": 18,
   "id": "0db2139b",
   "metadata": {},
   "outputs": [
    {
     "name": "stdout",
     "output_type": "stream",
     "text": [
      "ham\n",
      "spam\n",
      "spam\n"
     ]
    }
   ],
   "source": [
    "spam = 0\n",
    "if spam == 10:     # Block 1\n",
    "    print('eggs')\n",
    "elif spam > 5:   #Block 2\n",
    "    print('bacon')\n",
    "else:            # Block 3\n",
    "    print('ham')\n",
    "    print('spam')\n",
    "    print('spam')"
   ]
  },
  {
   "cell_type": "markdown",
   "id": "240b0b14",
   "metadata": {},
   "source": [
    "QUE 8. Write code that prints Hello if 1 is stored in spam, prints Howdy if 2 is stored in spam, and prints Greetings! if anything else is stored in spam."
   ]
  },
  {
   "cell_type": "code",
   "execution_count": 20,
   "id": "8cfb62dc",
   "metadata": {},
   "outputs": [
    {
     "name": "stdout",
     "output_type": "stream",
     "text": [
      "Enter a no : 2\n",
      "Howdy\n"
     ]
    }
   ],
   "source": [
    "spam = int(input(\"Enter a no : \"))\n",
    "if spam == 1 :\n",
    "    print('Hello')\n",
    "elif spam== 2:\n",
    "    print('Howdy')\n",
    "else :\n",
    "    print('Greetings')"
   ]
  },
  {
   "cell_type": "markdown",
   "id": "69ac03e9",
   "metadata": {},
   "source": [
    "QUE 9.If your programme is stuck in an endless loop, what keys you’ll press?\n",
    "\n",
    "ctrl + c"
   ]
  },
  {
   "cell_type": "markdown",
   "id": "f7826fd0",
   "metadata": {},
   "source": [
    "QUE 10. How can you tell the difference between break and continue?\n",
    "\n",
    "Break also terminates the remaining iterations while Continue doesn't terminate the next iterations; it resumes with the successive iterations."
   ]
  },
  {
   "cell_type": "code",
   "execution_count": 23,
   "id": "cdf4a6e9",
   "metadata": {},
   "outputs": [
    {
     "name": "stdout",
     "output_type": "stream",
     "text": [
      "1\n",
      "2\n",
      "3\n"
     ]
    }
   ],
   "source": [
    "#example\n",
    "#break\n",
    "for i in range(1,20):\n",
    "    if i == 4:\n",
    "        break\n",
    "    print(i)\n",
    "        "
   ]
  },
  {
   "cell_type": "code",
   "execution_count": 24,
   "id": "1cace19f",
   "metadata": {},
   "outputs": [
    {
     "name": "stdout",
     "output_type": "stream",
     "text": [
      "1\n",
      "2\n",
      "4\n",
      "5\n"
     ]
    }
   ],
   "source": [
    "#continue\n",
    "for i in range (1,6):\n",
    "    if i == 3:\n",
    "        continue\n",
    "    print(i)    "
   ]
  },
  {
   "cell_type": "markdown",
   "id": "acde099e",
   "metadata": {},
   "source": [
    " QUE 11. In a for loop, what is the difference between range(10), range(0, 10), and range(0, 10, 1)?"
   ]
  },
  {
   "cell_type": "code",
   "execution_count": 25,
   "id": "8bb46524",
   "metadata": {},
   "outputs": [
    {
     "name": "stdout",
     "output_type": "stream",
     "text": [
      "0\n",
      "1\n",
      "2\n",
      "3\n",
      "4\n",
      "5\n",
      "6\n",
      "7\n",
      "8\n",
      "9\n"
     ]
    }
   ],
   "source": [
    "for i in range (10):\n",
    "    print(i)"
   ]
  },
  {
   "cell_type": "code",
   "execution_count": 26,
   "id": "fe7896b3",
   "metadata": {},
   "outputs": [
    {
     "name": "stdout",
     "output_type": "stream",
     "text": [
      "0\n",
      "1\n",
      "2\n",
      "3\n",
      "4\n",
      "5\n",
      "6\n",
      "7\n",
      "8\n",
      "9\n"
     ]
    }
   ],
   "source": [
    "for i in range(0,10):\n",
    "    print(i)"
   ]
  },
  {
   "cell_type": "code",
   "execution_count": 27,
   "id": "c8e6c73f",
   "metadata": {},
   "outputs": [
    {
     "name": "stdout",
     "output_type": "stream",
     "text": [
      "0\n",
      "1\n",
      "2\n",
      "3\n",
      "4\n",
      "5\n",
      "6\n",
      "7\n",
      "8\n",
      "9\n"
     ]
    }
   ],
   "source": [
    "for i in range(0,10,1):\n",
    "    print(i)"
   ]
  },
  {
   "cell_type": "markdown",
   "id": "43618820",
   "metadata": {},
   "source": [
    "from above outputs it is clear than all the given terms are same in range."
   ]
  },
  {
   "cell_type": "markdown",
   "id": "bc7abdbf",
   "metadata": {},
   "source": [
    "QUE 12. Write a short program that prints the numbers 1 to 10 using a for loop. Then write an equivalent program that prints the numbers 1 to 10 using a while loop."
   ]
  },
  {
   "cell_type": "code",
   "execution_count": 28,
   "id": "8f9403be",
   "metadata": {},
   "outputs": [
    {
     "name": "stdout",
     "output_type": "stream",
     "text": [
      "0\n",
      "1\n",
      "2\n",
      "3\n",
      "4\n",
      "5\n",
      "6\n",
      "7\n",
      "8\n",
      "9\n",
      "10\n"
     ]
    }
   ],
   "source": [
    "# for loop\n",
    "for i in range (0,11):\n",
    "    print(i)"
   ]
  },
  {
   "cell_type": "code",
   "execution_count": 35,
   "id": "0c5ef807",
   "metadata": {},
   "outputs": [
    {
     "name": "stdout",
     "output_type": "stream",
     "text": [
      "1\n",
      "2\n",
      "3\n",
      "4\n",
      "5\n",
      "6\n",
      "7\n",
      "8\n",
      "9\n",
      "10\n"
     ]
    }
   ],
   "source": [
    "#while loop\n",
    "a=1\n",
    "while a<11:\n",
    "    print(a)\n",
    "    a=a+1"
   ]
  },
  {
   "cell_type": "markdown",
   "id": "5bb23908",
   "metadata": {},
   "source": [
    "QUE 13. If you had a function named bacon() inside a module named spam, how would you call it after importing spam?\n",
    "\n",
    "It can be called by a simple command as follow..\n",
    "spam.bacon()"
   ]
  }
 ],
 "metadata": {
  "kernelspec": {
   "display_name": "Python 3 (ipykernel)",
   "language": "python",
   "name": "python3"
  },
  "language_info": {
   "codemirror_mode": {
    "name": "ipython",
    "version": 3
   },
   "file_extension": ".py",
   "mimetype": "text/x-python",
   "name": "python",
   "nbconvert_exporter": "python",
   "pygments_lexer": "ipython3",
   "version": "3.9.7"
  }
 },
 "nbformat": 4,
 "nbformat_minor": 5
}
