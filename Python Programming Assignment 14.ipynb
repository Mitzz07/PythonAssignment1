{
 "cells": [
  {
   "cell_type": "markdown",
   "id": "4c0aaeb9",
   "metadata": {},
   "source": [
    "Question 1:\n",
    "Define a class with a generator which can iterate the numbers, which are divisible by\n",
    "7, between a given range 0 and n."
   ]
  },
  {
   "cell_type": "code",
   "execution_count": 4,
   "id": "6754da1c",
   "metadata": {},
   "outputs": [],
   "source": [
    "class generator():\n",
    "    def __init__(self, num):\n",
    "        self.num = num\n",
    "    def req_num(self):\n",
    "        for i in range(0,self.num + 1):\n",
    "            if i % 7 ==0 :\n",
    "                yield i           "
   ]
  },
  {
   "cell_type": "code",
   "execution_count": 5,
   "id": "a4d08593",
   "metadata": {},
   "outputs": [
    {
     "name": "stdout",
     "output_type": "stream",
     "text": [
      "0,7,14,21,28,35,42,49,56,63,70,77,84,91,98,"
     ]
    }
   ],
   "source": [
    "output = generator(100)\n",
    "for j in output.req_num():\n",
    "    print(j , end=',')"
   ]
  },
  {
   "cell_type": "markdown",
   "id": "3f6928fa",
   "metadata": {},
   "source": [
    "Question2.\n",
    "Write a program to compute the frequency of the words from the input. The output should output after sorting the key alphanumerically.\n",
    "Suppose the following input is supplied to the program:\n",
    "New to Python or choosing between Python 2 and Python 3? Read Python 2 or Python 3.\n",
    "Then, the output should be:\n",
    "2:2 3.:1 3?:1 New:1 Python:5 Read:1 and:1 between:1 choosing:1 or:2 to:1"
   ]
  },
  {
   "cell_type": "code",
   "execution_count": 7,
   "id": "23fdff5b",
   "metadata": {},
   "outputs": [],
   "source": [
    "def word_frequency(string):\n",
    "    lst = string.split(' ')\n",
    "    lst_sort= sorted(lst)\n",
    "    freq ={}\n",
    "    for i in lst_sort:\n",
    "        if freq.get(i) == None :\n",
    "            freq[i] = 1\n",
    "        else :\n",
    "            freq[i]=freq[i] +1\n",
    "    return freq        "
   ]
  },
  {
   "cell_type": "code",
   "execution_count": 8,
   "id": "ba26fb9d",
   "metadata": {},
   "outputs": [
    {
     "data": {
      "text/plain": [
       "{'.': 1,\n",
       " 'Also': 1,\n",
       " 'I': 2,\n",
       " 'a': 1,\n",
       " 'about': 1,\n",
       " 'am': 2,\n",
       " 'and': 1,\n",
       " 'aware': 1,\n",
       " 'can': 1,\n",
       " 'effects': 1,\n",
       " 'protest': 2,\n",
       " 'side': 1,\n",
       " 'student': 2}"
      ]
     },
     "execution_count": 8,
     "metadata": {},
     "output_type": "execute_result"
    }
   ],
   "source": [
    "word_frequency('I am a student and student can protest . Also I am aware about protest side effects') "
   ]
  },
  {
   "cell_type": "markdown",
   "id": "aa027aa7",
   "metadata": {},
   "source": [
    "Question3.\n",
    "Define a class Person and its two child classes: Male and Female. All classes have a method \"getGender\" which can print \"Male\" for Male class and \"Female\" for Female class. ?"
   ]
  },
  {
   "cell_type": "code",
   "execution_count": 12,
   "id": "bf32d4de",
   "metadata": {},
   "outputs": [],
   "source": [
    "class person():\n",
    "    def getgender():\n",
    "        pass\n",
    "    \n",
    "class male(person):\n",
    "    def getgender():\n",
    "        print('Male')\n",
    "    \n",
    "class female(person):\n",
    "    def getgender():\n",
    "        print('Female')\n",
    "    "
   ]
  },
  {
   "cell_type": "code",
   "execution_count": 14,
   "id": "0dfab925",
   "metadata": {},
   "outputs": [
    {
     "name": "stdout",
     "output_type": "stream",
     "text": [
      "Male\n",
      "Female\n"
     ]
    }
   ],
   "source": [
    "male.getgender()\n",
    "female.getgender()"
   ]
  },
  {
   "cell_type": "markdown",
   "id": "5089053f",
   "metadata": {},
   "source": [
    "Question4.\n",
    "Please write a program to generate all sentences where subject is in [\"I\", \"You\"] and verb is in [\"Play\", \"Love\"] and the object is in [\"Hockey\",\"Football\"] ?"
   ]
  },
  {
   "cell_type": "code",
   "execution_count": 25,
   "id": "4c327acb",
   "metadata": {},
   "outputs": [],
   "source": [
    "def sentences():\n",
    "    subject = ['I','You']\n",
    "    verb = [\"Play\", \"Love\"]\n",
    "    object1 = [\"Hockey\",\"Football\"]\n",
    "    for s in subject:\n",
    "        for v in verb:\n",
    "            for o in object1:\n",
    "                print(s+' ' +v+' '+o)"
   ]
  },
  {
   "cell_type": "code",
   "execution_count": 26,
   "id": "e67e45c5",
   "metadata": {},
   "outputs": [
    {
     "name": "stdout",
     "output_type": "stream",
     "text": [
      "I Play Hockey\n",
      "I Play Football\n",
      "I Love Hockey\n",
      "I Love Football\n",
      "You Play Hockey\n",
      "You Play Football\n",
      "You Love Hockey\n",
      "You Love Football\n"
     ]
    }
   ],
   "source": [
    "sentences()"
   ]
  },
  {
   "cell_type": "markdown",
   "id": "86a6f581",
   "metadata": {},
   "source": [
    "Question5.\n",
    "Please write a program to compress and decompress the string \"hello world!hello world!hello world!hello world!\" ?"
   ]
  },
  {
   "cell_type": "code",
   "execution_count": 27,
   "id": "780ad8f7",
   "metadata": {},
   "outputs": [],
   "source": [
    "def compress(string):\n",
    "    output = string[0]\n",
    "    count = 1\n",
    "    for i in range(len(string)-1):\n",
    "        if string[i] == string[i+1]:\n",
    "            count +=1\n",
    "        else:\n",
    "            if count > 1:\n",
    "                output += str(count)\n",
    "            output += string[i+1]\n",
    "            count = 1\n",
    "    if count > 1:\n",
    "        output += str(count)            \n",
    "    print(output)\n",
    "\n",
    "\n",
    "def decompress(string):\n",
    "    output = ''\n",
    "    for i in range(len(string)):\n",
    "        if string[i].isdigit():\n",
    "            output += output[-1]*(int(string[i])-1)\n",
    "        else:\n",
    "            output += string[i]\n",
    "    print(output)"
   ]
  },
  {
   "cell_type": "code",
   "execution_count": 28,
   "id": "0f66366c",
   "metadata": {},
   "outputs": [
    {
     "name": "stdout",
     "output_type": "stream",
     "text": [
      "mitz2 is in modern col2ege\n"
     ]
    }
   ],
   "source": [
    "compress('mitzz is in modern college')"
   ]
  },
  {
   "cell_type": "code",
   "execution_count": 29,
   "id": "584c345d",
   "metadata": {},
   "outputs": [
    {
     "name": "stdout",
     "output_type": "stream",
     "text": [
      "mitzz is in modern college\n"
     ]
    }
   ],
   "source": [
    "decompress('mitz2 is in modern col2ege')"
   ]
  }
 ],
 "metadata": {
  "kernelspec": {
   "display_name": "Python 3 (ipykernel)",
   "language": "python",
   "name": "python3"
  },
  "language_info": {
   "codemirror_mode": {
    "name": "ipython",
    "version": 3
   },
   "file_extension": ".py",
   "mimetype": "text/x-python",
   "name": "python",
   "nbconvert_exporter": "python",
   "pygments_lexer": "ipython3",
   "version": "3.9.12"
  }
 },
 "nbformat": 4,
 "nbformat_minor": 5
}
