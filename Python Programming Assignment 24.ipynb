{
 "cells": [
  {
   "cell_type": "markdown",
   "id": "dfbef925",
   "metadata": {},
   "source": [
    "Question1\n",
    "Create a function that takes an integer and returns a list from 1 to the given number, where:\n",
    "1. If the number can be divided evenly by 4, amplify it by 10 (i.e. return 10 times the\n",
    "number).\n",
    "2. If the number cannot be divided evenly by 4, simply return the number.\n",
    "Examples\n",
    "amplify(4) ➞ [1, 2, 3, 40]\n",
    "amplify(3) ➞ [1, 2, 3]\n",
    "amplify(25) ➞ [1, 2, 3, 40, 5, 6, 7, 80, 9, 10, 11, 120, 13, 14, 15, 160,\n",
    "17, 18, 19, 200, 21, 22, 23, 240, 25]\n",
    "Notes\n",
    " The given integer will always be equal to or greater than 1.\n",
    " Include the number (see example above).\n",
    " To perform this problem with its intended purpose, try doing it with list\n",
    "comprehensions. If that's too difficult, just solve the challenge any way you can."
   ]
  },
  {
   "cell_type": "code",
   "execution_count": 29,
   "id": "762296d2",
   "metadata": {},
   "outputs": [],
   "source": [
    "def amplify(num):\n",
    "    l=[]\n",
    "    for i in range(1,num+1):\n",
    "        if i % 4 == 0:\n",
    "            l.append(i*10)\n",
    "        else :\n",
    "            l.append(i)   \n",
    "    return l   "
   ]
  },
  {
   "cell_type": "code",
   "execution_count": 30,
   "id": "d44f90c1",
   "metadata": {},
   "outputs": [
    {
     "data": {
      "text/plain": [
       "[1, 2, 3, 40, 5, 6, 7, 80, 9, 10, 11, 120, 13]"
      ]
     },
     "execution_count": 30,
     "metadata": {},
     "output_type": "execute_result"
    }
   ],
   "source": [
    "amplify(13)"
   ]
  },
  {
   "cell_type": "markdown",
   "id": "c9d5de22",
   "metadata": {},
   "source": [
    "Question2\n",
    "Create a function that takes a list of numbers and return the number that's unique.\n",
    "Examples\n",
    "unique([3, 3, 3, 7, 3, 3]) ➞ 7\n",
    "unique([0, 0, 0.77, 0, 0]) ➞ 0.77\n",
    "unique([0, 1, 1, 1, 1, 1, 1, 1]) ➞ 0\n",
    "Notes\n",
    "Test cases will always have exactly one unique number while all others are the same."
   ]
  },
  {
   "cell_type": "code",
   "execution_count": 32,
   "id": "e7060318",
   "metadata": {},
   "outputs": [],
   "source": [
    "def unique(lst):\n",
    "    num=' '\n",
    "    for i in set(lst):\n",
    "        if lst.count(i) == 1:\n",
    "            num = i\n",
    "    return num        "
   ]
  },
  {
   "cell_type": "code",
   "execution_count": 33,
   "id": "f1cc44e1",
   "metadata": {},
   "outputs": [
    {
     "data": {
      "text/plain": [
       "5"
      ]
     },
     "execution_count": 33,
     "metadata": {},
     "output_type": "execute_result"
    }
   ],
   "source": [
    "unique([4,5,4,4,4,4,4])"
   ]
  },
  {
   "cell_type": "markdown",
   "id": "f365a66b",
   "metadata": {},
   "source": [
    "Question3\n",
    "Your task is to create a Circle constructor that creates a circle with a radius provided by an\n",
    "argument. The circles constructed must have two getters getArea() (PIr^2) and\n",
    "getPerimeter() (2PI*r) which give both respective areas and perimeter (circumference).\n",
    "\n",
    "For help with this class, I have provided you with a Rectangle constructor which you can use\n",
    "as a base example.\n",
    "Examples\n",
    "circy = Circle(11)\n",
    "circy.getArea()\n",
    "#Should return 380.132711084365\n",
    "circy = Circle(4.44)\n",
    "circy.getPerimeter()\n",
    "#Should return 27.897342763877365\n",
    "Notes:\n",
    "Round results up to the nearest integer."
   ]
  },
  {
   "cell_type": "code",
   "execution_count": 35,
   "id": "5dd044da",
   "metadata": {},
   "outputs": [],
   "source": [
    "import math\n",
    "class circle:\n",
    "    def __init__(self,radius):\n",
    "        self.radius = radius\n",
    "    \n",
    "    def getArea(self):\n",
    "        a= math.pi * self.radius * self.radius\n",
    "        b=round(a)\n",
    "        return b\n",
    "    def getPerimeter(self):\n",
    "        a= 2 * math.pi * self.radius\n",
    "        b=round(a)\n",
    "        return b"
   ]
  },
  {
   "cell_type": "code",
   "execution_count": 40,
   "id": "bd73626b",
   "metadata": {},
   "outputs": [
    {
     "data": {
      "text/plain": [
       "616"
      ]
     },
     "execution_count": 40,
     "metadata": {},
     "output_type": "execute_result"
    }
   ],
   "source": [
    "circle(14).getArea()"
   ]
  },
  {
   "cell_type": "code",
   "execution_count": 41,
   "id": "043f3812",
   "metadata": {},
   "outputs": [
    {
     "data": {
      "text/plain": [
       "88"
      ]
     },
     "execution_count": 41,
     "metadata": {},
     "output_type": "execute_result"
    }
   ],
   "source": [
    "circle(14).getPerimeter()"
   ]
  },
  {
   "cell_type": "markdown",
   "id": "d5aecb21",
   "metadata": {},
   "source": [
    "4.Create a function that takes a list of strings and return a list, sorted from shortest to longest.\n",
    "Examples:\n",
    "sort_by_length([\"Google\", \"Apple\", \"Microsoft\"])\n",
    "➞ [\"Apple\", \"Google\", \"Microsoft\"]\n",
    "sort_by_length([\"Leonardo\", \"Michelangelo\", \"Raphael\", \"Donatello\"])\n",
    "➞ [\"Raphael\", \"Leonardo\", \"Donatello\", \"Michelangelo\"]\n",
    "sort_by_length([\"Turing\", \"Einstein\", \"Jung\"])\n",
    "➞ [\"Jung\", \"Turing\", \"Einstein\"]\n",
    "\n",
    "Notes:\n",
    "All test cases contain lists with strings of different lengths, so you won't have to deal with multiple strings of the same length."
   ]
  },
  {
   "cell_type": "code",
   "execution_count": 42,
   "id": "00871026",
   "metadata": {},
   "outputs": [],
   "source": [
    "def lenght_sort(lst):\n",
    "    a=sorted(lst,key= len)\n",
    "    return a"
   ]
  },
  {
   "cell_type": "code",
   "execution_count": 43,
   "id": "de7f0d46",
   "metadata": {},
   "outputs": [
    {
     "data": {
      "text/plain": [
       "['sp', 'coep', 'wadia', 'modern', 'fergusson']"
      ]
     },
     "execution_count": 43,
     "metadata": {},
     "output_type": "execute_result"
    }
   ],
   "source": [
    "lenght_sort(['modern','fergusson','sp','wadia','coep'])"
   ]
  },
  {
   "cell_type": "markdown",
   "id": "34b2bdba",
   "metadata": {},
   "source": [
    "Question5\n",
    "Create a function that validates whether three given integers form a Pythagorean triplet. The\n",
    "sum of the squares of the two smallest integers must equal the square of the largest number to\n",
    "be validated.\n",
    "\n",
    "Examples\n",
    "is_triplet(3, 4, 5) ➞ True\n",
    "#3² + 4² = 25\n",
    "#5² = 25\n",
    "is_triplet(13, 5, 12) ➞ True\n",
    "#5² + 12² = 169\n",
    "#13² = 169\n",
    "is_triplet(1, 2, 3) ➞ False\n",
    "#1² + 2² = 5\n",
    "#3² = 9\n",
    "Notes\n",
    "Numbers may not be given in a sorted order."
   ]
  },
  {
   "cell_type": "code",
   "execution_count": 76,
   "id": "030b0796",
   "metadata": {},
   "outputs": [],
   "source": [
    "def triplet(a,b,c):\n",
    "    if (a**2 + b**2) == (c**2):\n",
    "        print(\"True\")\n",
    "    else :\n",
    "        print(\"False\")"
   ]
  },
  {
   "cell_type": "code",
   "execution_count": 77,
   "id": "05298d3b",
   "metadata": {},
   "outputs": [
    {
     "name": "stdout",
     "output_type": "stream",
     "text": [
      "True\n"
     ]
    }
   ],
   "source": [
    "triplet(3,4,5)"
   ]
  }
 ],
 "metadata": {
  "kernelspec": {
   "display_name": "Python 3 (ipykernel)",
   "language": "python",
   "name": "python3"
  },
  "language_info": {
   "codemirror_mode": {
    "name": "ipython",
    "version": 3
   },
   "file_extension": ".py",
   "mimetype": "text/x-python",
   "name": "python",
   "nbconvert_exporter": "python",
   "pygments_lexer": "ipython3",
   "version": "3.9.12"
  }
 },
 "nbformat": 4,
 "nbformat_minor": 5
}
