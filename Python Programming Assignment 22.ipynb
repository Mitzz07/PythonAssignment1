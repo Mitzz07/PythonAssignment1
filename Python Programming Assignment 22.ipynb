{
 "cells": [
  {
   "cell_type": "markdown",
   "id": "7c218aa2",
   "metadata": {},
   "source": [
    "Question1\n",
    "Create a function that takes three parameters where:\n",
    " x is the start of the range (inclusive).\n",
    " y is the end of the range (inclusive).\n",
    " n is the divisor to be checked against.\n",
    "Return an ordered list with numbers in the range that are divisible by the third parameter n.\n",
    "Return an empty list if there are no numbers that are divisible by n.\n",
    "Examples\n",
    "list_operation(1, 10, 3) ➞ [3, 6, 9]\n",
    "list_operation(7, 9, 2) ➞ [8]\n",
    "list_operation(15, 20, 7) ➞ []"
   ]
  },
  {
   "cell_type": "code",
   "execution_count": 4,
   "id": "ad3b3fa5",
   "metadata": {},
   "outputs": [],
   "source": [
    "def fun1(x,y,z):\n",
    "    lst=[]\n",
    "    for i in range(x,y+1):\n",
    "        if i % z == 0 :\n",
    "            lst.append(i)\n",
    "    return lst        "
   ]
  },
  {
   "cell_type": "code",
   "execution_count": 5,
   "id": "0fe5093f",
   "metadata": {},
   "outputs": [
    {
     "data": {
      "text/plain": [
       "[6, 12, 18, 24, 30]"
      ]
     },
     "execution_count": 5,
     "metadata": {},
     "output_type": "execute_result"
    }
   ],
   "source": [
    "fun1(1,30,6)"
   ]
  },
  {
   "cell_type": "markdown",
   "id": "7daa0dc2",
   "metadata": {},
   "source": [
    "Question2\n",
    "Create a function that takes in two lists and returns True if the second list follows the first list\n",
    "by one element, and False otherwise. In other words, determine if the second list is the first\n",
    "list shifted to the right by 1.\n",
    "Examples\n",
    "simon_says([1, 2], [5, 1]) ➞ True\n",
    "simon_says([1, 2], [5, 5]) ➞ False\n",
    "simon_says([1, 2, 3, 4, 5], [0, 1, 2, 3, 4]) ➞ True\n",
    "simon_says([1, 2, 3, 4, 5], [5, 5, 1, 2, 3]) ➞ False\n",
    "Notes\n",
    " Both input lists will be of the same length, and will have a minimum length of 2.\n",
    " The values of the 0-indexed element in the second list and the n-1th indexed element\n",
    "in the first list do not matter."
   ]
  },
  {
   "cell_type": "code",
   "execution_count": 15,
   "id": "6d164406",
   "metadata": {},
   "outputs": [],
   "source": [
    "def fun2(lst1,lst2):\n",
    "    if len(lst1) == len(lst2) and len(lst1) >= 2 and len(lst2) >=2:\n",
    "        if lst1[0]==lst2[1]:\n",
    "            print('True')\n",
    "        else:\n",
    "            print('False')\n",
    "    else:\n",
    "        print(\"Both lists should be of same size and contains elements more then 2\")"
   ]
  },
  {
   "cell_type": "code",
   "execution_count": 10,
   "id": "019e598c",
   "metadata": {},
   "outputs": [
    {
     "name": "stdout",
     "output_type": "stream",
     "text": [
      "True\n"
     ]
    }
   ],
   "source": [
    "fun2([2,3,4,5,6],[95,2,9,4,3])"
   ]
  },
  {
   "cell_type": "code",
   "execution_count": 11,
   "id": "0a0cf2e3",
   "metadata": {},
   "outputs": [
    {
     "name": "stdout",
     "output_type": "stream",
     "text": [
      "False\n"
     ]
    }
   ],
   "source": [
    "fun2([3,5,6],[95,4,3])"
   ]
  },
  {
   "cell_type": "code",
   "execution_count": 16,
   "id": "9748a612",
   "metadata": {},
   "outputs": [
    {
     "name": "stdout",
     "output_type": "stream",
     "text": [
      "Both lists should be of same size and contains elements more then 2\n"
     ]
    }
   ],
   "source": [
    "fun2([3,4,5],[3,4])"
   ]
  },
  {
   "cell_type": "markdown",
   "id": "fad37240",
   "metadata": {},
   "source": [
    "Question3\n",
    "A group of friends have decided to start a secret society. The name will be the first letter of each of their names, sorted in a alphabetical order ? Create a function that takes in a list of names and returns the name of the secret society ?\n",
    "Examples:\n",
    "society_name([\"Adam\", \"Sarah\", \"Malcolm\"]) ➞ \"AMS\"\n",
    "society_name([\"Harry\", \"Newt\", \"Luna\", \"Cho\"]) ➞ \"CHLN\"\n",
    "society_name([\"Phoebe\", \"Chandler\", \"Rachel\", \"Ross\", \"Monica\", \"Joey\"])"
   ]
  },
  {
   "cell_type": "code",
   "execution_count": 32,
   "id": "c9b6c939",
   "metadata": {},
   "outputs": [],
   "source": [
    "def secret_society(lst):\n",
    "    lst1=[]\n",
    "    for i in lst:\n",
    "        lst1.append(i[0])\n",
    "        a=sorted(lst1)\n",
    "        b=''.join(a)\n",
    "    return b    "
   ]
  },
  {
   "cell_type": "code",
   "execution_count": 33,
   "id": "4343de39",
   "metadata": {},
   "outputs": [
    {
     "data": {
      "text/plain": [
       "'DKM'"
      ]
     },
     "execution_count": 33,
     "metadata": {},
     "output_type": "execute_result"
    }
   ],
   "source": [
    "secret_society(['Mitzz','Dhoni','Krish'])"
   ]
  },
  {
   "cell_type": "markdown",
   "id": "67c090e7",
   "metadata": {},
   "source": [
    "Question4\n",
    "An isogram is a word that has no duplicate letters. Create a function that takes a string and returns either True or False depending on whether or not it's an \"isogram\".\n",
    "Examples:\n",
    "is_isogram(\"Algorism\") ➞ True\n",
    "is_isogram(\"PasSword\") ➞ False\n",
    "#Not case sensitive.\n",
    "is_isogram(\"Consecutive\") ➞ False\n",
    "Notes\n",
    " Ignore letter case (should not be case sensitive).\n",
    " All test cases contain valid one word strings."
   ]
  },
  {
   "cell_type": "code",
   "execution_count": 38,
   "id": "3b614e6f",
   "metadata": {},
   "outputs": [],
   "source": [
    "def isogram(string):\n",
    "    str1=string.lower()\n",
    "    if len(str1) == len(set(str1)):\n",
    "        print(\"True\")\n",
    "    else:\n",
    "        print(\"False\")"
   ]
  },
  {
   "cell_type": "code",
   "execution_count": 39,
   "id": "dd62bd40",
   "metadata": {},
   "outputs": [
    {
     "name": "stdout",
     "output_type": "stream",
     "text": [
      "False\n"
     ]
    }
   ],
   "source": [
    "isogram('hritik')"
   ]
  },
  {
   "cell_type": "code",
   "execution_count": 40,
   "id": "77e06f24",
   "metadata": {},
   "outputs": [
    {
     "name": "stdout",
     "output_type": "stream",
     "text": [
      "True\n"
     ]
    }
   ],
   "source": [
    "isogram('python')"
   ]
  },
  {
   "cell_type": "markdown",
   "id": "54cb127a",
   "metadata": {},
   "source": [
    "5.Create a function that takes a string and returns True or False, depending on whether the characters are in order or not ?\n",
    "Examples:\n",
    "is_in_order(\"abc\") ➞ True\n",
    "is_in_order(\"edabit\") ➞ False\n",
    "is_in_order(\"123\") ➞ True\n",
    "is_in_order(\"xyzz\") ➞ True\n",
    "\n",
    "Notes:\n",
    "You don't have to handle empty strings."
   ]
  },
  {
   "cell_type": "code",
   "execution_count": 41,
   "id": "336facbf",
   "metadata": {},
   "outputs": [],
   "source": [
    "def order_fun(string):\n",
    "    sorted_str = ''.join(sorted(string))\n",
    "    if string == sorted_str:\n",
    "        print('true')\n",
    "    else:\n",
    "        print('false')"
   ]
  },
  {
   "cell_type": "code",
   "execution_count": 42,
   "id": "dda24439",
   "metadata": {},
   "outputs": [
    {
     "name": "stdout",
     "output_type": "stream",
     "text": [
      "false\n"
     ]
    }
   ],
   "source": [
    "order_fun('sumit')"
   ]
  },
  {
   "cell_type": "code",
   "execution_count": 43,
   "id": "2762e8d5",
   "metadata": {},
   "outputs": [
    {
     "name": "stdout",
     "output_type": "stream",
     "text": [
      "true\n"
     ]
    }
   ],
   "source": [
    "order_fun('abcd')"
   ]
  }
 ],
 "metadata": {
  "kernelspec": {
   "display_name": "Python 3 (ipykernel)",
   "language": "python",
   "name": "python3"
  },
  "language_info": {
   "codemirror_mode": {
    "name": "ipython",
    "version": 3
   },
   "file_extension": ".py",
   "mimetype": "text/x-python",
   "name": "python",
   "nbconvert_exporter": "python",
   "pygments_lexer": "ipython3",
   "version": "3.9.12"
  }
 },
 "nbformat": 4,
 "nbformat_minor": 5
}
