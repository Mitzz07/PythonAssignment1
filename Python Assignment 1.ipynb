{
 "cells": [
  {
   "cell_type": "markdown",
   "id": "85bcbe30",
   "metadata": {},
   "source": [
    "QUE 1. In the below elements which of them are values or an expression? eg:- values can be\n",
    "integer or string and expressions will be mathematical operators.\n",
    "\n",
    "* is a Expression\n",
    "'Hello' is a Value\n",
    "-87.8 is a Value\n",
    "- is a Expression\n",
    "/ is a Expression\n",
    "+ is a Expression\n",
    "6 is a Value"
   ]
  },
  {
   "cell_type": "markdown",
   "id": "4c5964c6",
   "metadata": {},
   "source": [
    "QUE 2. What is the difference between string and variable?\n",
    "\n",
    "String is a form of data or informatio while Variable in python are the term used to denote such information or data in it."
   ]
  },
  {
   "cell_type": "markdown",
   "id": "ecf82081",
   "metadata": {},
   "source": [
    "QUE 3. Describe three different data types.\n",
    "\n",
    "String , Integer, float, Booleans are the important data types in python.\n",
    "Strings are generally considered as an array. They can store characters, elements. Strings can be used to create expressions.\n",
    "Integers in python contains positive , negative or zero value. That is it can store only Whole no value in it.\n",
    "Floats represents the floating point number. It Contains real values with decimals.\n",
    "Booleans are the types which represents the truth in an expression. It can Show only two values i.e True or False."
   ]
  },
  {
   "cell_type": "markdown",
   "id": "d4982899",
   "metadata": {},
   "source": [
    "QUE 4. What is an expression made up of? What do all expressions do?\n",
    "\n",
    "An expression is a combination of operators and operands that is interpreted to produce some other value.\n",
    "They are different from statements, They represents values or information."
   ]
  },
  {
   "cell_type": "markdown",
   "id": "d1f38cc9",
   "metadata": {},
   "source": [
    "QUE 5. This assignment statements, like spam = 10. What is the difference between an\n",
    "expression and a statement?\n",
    "\n",
    "An expression is something, while a statement does something.\n",
    "It is a expression as expression evaluates to a single value. Statement does not return anything."
   ]
  },
  {
   "cell_type": "markdown",
   "id": "10caa142",
   "metadata": {},
   "source": [
    "QUE 6. After running the following code, what does the variable bacon contain?\n",
    "bacon = 22\n",
    "bacon + 1"
   ]
  },
  {
   "cell_type": "code",
   "execution_count": 1,
   "id": "386a07cb",
   "metadata": {},
   "outputs": [
    {
     "data": {
      "text/plain": [
       "22"
      ]
     },
     "execution_count": 1,
     "metadata": {},
     "output_type": "execute_result"
    }
   ],
   "source": [
    "bacon =22\n",
    "bacon + 1\n",
    "bacon"
   ]
  },
  {
   "cell_type": "markdown",
   "id": "5f7000d8",
   "metadata": {},
   "source": [
    "QUE 7. What should the values of the following two terms be?\n",
    "'spam' + 'spamspam'\n",
    "'spam' * 3"
   ]
  },
  {
   "cell_type": "code",
   "execution_count": 2,
   "id": "c50b4ff4",
   "metadata": {},
   "outputs": [
    {
     "data": {
      "text/plain": [
       "'spamspamspam'"
      ]
     },
     "execution_count": 2,
     "metadata": {},
     "output_type": "execute_result"
    }
   ],
   "source": [
    "'spam' + 'spamspam'"
   ]
  },
  {
   "cell_type": "code",
   "execution_count": 3,
   "id": "9a087ac1",
   "metadata": {},
   "outputs": [
    {
     "data": {
      "text/plain": [
       "'spamspamspam'"
      ]
     },
     "execution_count": 3,
     "metadata": {},
     "output_type": "execute_result"
    }
   ],
   "source": [
    "'spam' * 3"
   ]
  },
  {
   "cell_type": "markdown",
   "id": "f57463f9",
   "metadata": {},
   "source": [
    "Both gives the same output."
   ]
  },
  {
   "cell_type": "markdown",
   "id": "a6a12a26",
   "metadata": {},
   "source": [
    "QUE 8. Why is eggs a valid variable name while 100 is invalid?\n",
    "\n",
    "Eggs is a string while 100 is a number. As a variable name, egges is valid but 100 is invalid because variable cannot start by a number value."
   ]
  },
  {
   "cell_type": "markdown",
   "id": "f9a9d1f0",
   "metadata": {},
   "source": [
    "QUE 9. What three functions can be used to get the integer, floating-point number, or string version of a value?\n",
    "\n",
    "int() , float() , and str() are the function used for integer , float and string respectively."
   ]
  },
  {
   "cell_type": "markdown",
   "id": "72a994ea",
   "metadata": {},
   "source": [
    "QUE 10. Why does this expression cause an error? How can you fix it?\n",
    "'I have eaten' + 99 + 'burritos.'\n",
    "\n",
    "There is an error becauese by + sign we can add only same datatypes.\n",
    "We cannot add one string and one integer value.\n",
    "Correct way is to convert integer to string as follows..."
   ]
  },
  {
   "cell_type": "code",
   "execution_count": 5,
   "id": "5fd7ee7a",
   "metadata": {},
   "outputs": [
    {
     "data": {
      "text/plain": [
       "'I have eaten99burritos.'"
      ]
     },
     "execution_count": 5,
     "metadata": {},
     "output_type": "execute_result"
    }
   ],
   "source": [
    "'I have eaten' + '99' + 'burritos.'"
   ]
  }
 ],
 "metadata": {
  "kernelspec": {
   "display_name": "Python 3 (ipykernel)",
   "language": "python",
   "name": "python3"
  },
  "language_info": {
   "codemirror_mode": {
    "name": "ipython",
    "version": 3
   },
   "file_extension": ".py",
   "mimetype": "text/x-python",
   "name": "python",
   "nbconvert_exporter": "python",
   "pygments_lexer": "ipython3",
   "version": "3.9.7"
  }
 },
 "nbformat": 4,
 "nbformat_minor": 5
}
