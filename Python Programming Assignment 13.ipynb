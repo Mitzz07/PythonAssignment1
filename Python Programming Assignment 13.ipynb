{
 "cells": [
  {
   "cell_type": "markdown",
   "id": "3489ec45",
   "metadata": {},
   "source": [
    "Question 1:\n",
    "Write a program that calculates and prints the value according to the given formula:\n",
    "Q = Square root of [(2 * C * D)/H]\n",
    "Following are the fixed values of C and H:\n",
    "C is 50. H is 30.\n",
    "D is the variable whose values should be input to your program in a comma-separated\n",
    "sequence.\n",
    "Example\n",
    "Let us assume the following comma separated input sequence is given to the program:\n",
    "100,150,180\n",
    "The output of the program should be:\n",
    "18,22,24"
   ]
  },
  {
   "cell_type": "code",
   "execution_count": 15,
   "id": "f1b74c1b",
   "metadata": {},
   "outputs": [
    {
     "name": "stdout",
     "output_type": "stream",
     "text": [
      "Enter 3 nums : 100,200,300\n",
      "[18, 26, 32]\n"
     ]
    }
   ],
   "source": [
    "import math\n",
    "\n",
    "I= input(\"Enter 3 nums : \")\n",
    "I= I.split(',')\n",
    "\n",
    "output=[]\n",
    "\n",
    "for D in I:\n",
    "    C=50\n",
    "    H=30\n",
    "    Q = round(math.sqrt(2 * 50 * int(D)/30))\n",
    "    output.append(Q)\n",
    "print(output)"
   ]
  },
  {
   "cell_type": "markdown",
   "id": "55dbb011",
   "metadata": {},
   "source": [
    "Question 2:\n",
    "Write a program which takes 2 digits, X,Y as input and generates a 2-dimensional array. The\n",
    "element value in the i-th row and j-th column of the array should be i*j.\n",
    "Note: i=0,1.., X-1; j=0,1,¡Y-1.\n",
    "Example\n",
    "Suppose the following inputs are given to the program:\n",
    "3,5\n",
    "Then, the output of the program should be:\n",
    "[[0, 0, 0, 0, 0], [0, 1, 2, 3, 4], [0, 2, 4, 6, 8]]"
   ]
  },
  {
   "cell_type": "code",
   "execution_count": 12,
   "id": "1f0f6b97",
   "metadata": {},
   "outputs": [],
   "source": [
    "def array_fun(x,y):\n",
    "    array1=[]\n",
    "    for i in range(x):\n",
    "        array1.insert(x,[])\n",
    "        for j in range(y):\n",
    "            array1[i].append(i*j)\n",
    "    return array1        "
   ]
  },
  {
   "cell_type": "code",
   "execution_count": 13,
   "id": "44483593",
   "metadata": {},
   "outputs": [
    {
     "data": {
      "text/plain": [
       "[[0, 0, 0, 0, 0], [0, 1, 2, 3, 4], [0, 2, 4, 6, 8]]"
      ]
     },
     "execution_count": 13,
     "metadata": {},
     "output_type": "execute_result"
    }
   ],
   "source": [
    "array_fun(3,5)"
   ]
  },
  {
   "cell_type": "markdown",
   "id": "4a32473d",
   "metadata": {},
   "source": [
    "Question 3:\n",
    "Write a program that accepts a comma separated sequence of words as input and prints the\n",
    "words in a comma-separated sequence after sorting them alphabetically.\n",
    "Suppose the following input is supplied to the program:\n",
    "without,hello,bag,world\n",
    "Then, the output should be:\n",
    "bag,hello,without,world"
   ]
  },
  {
   "cell_type": "code",
   "execution_count": 19,
   "id": "354a8002",
   "metadata": {},
   "outputs": [
    {
     "name": "stdout",
     "output_type": "stream",
     "text": [
      "Enter comma seperated words: mumbai,pune,nashik,banglore,akot,nagpur\n",
      "Outut: akot,banglore,mumbai,nagpur,nashik,pune\n"
     ]
    }
   ],
   "source": [
    "a=input(\"Enter comma seperated words: \")\n",
    "b=a.split(',')\n",
    "c=sorted(b)\n",
    "d=','.join(c)\n",
    "print(\"Outut:\",d)"
   ]
  },
  {
   "cell_type": "markdown",
   "id": "3ad0ad4d",
   "metadata": {},
   "source": [
    "def Question 4:\n",
    "Write a program that accepts a sequence of whitespace separated words as input and prints\n",
    "the words after removing all duplicate words and sorting them alphanumerically.\n",
    "Suppose the following input is supplied to the program:\n",
    "hello world and practice makes perfect and hello world again\n",
    "Then, the output should be:\n",
    "again and hello makes perfect practice world"
   ]
  },
  {
   "cell_type": "code",
   "execution_count": 9,
   "id": "e1e6c098",
   "metadata": {},
   "outputs": [],
   "source": [
    "def word_sort(string):\n",
    "    str1= string.split(' ')\n",
    "    str2= set(str1)\n",
    "    str3= sorted(str2)\n",
    "    str4= ' '.join(str3)\n",
    "    return str4"
   ]
  },
  {
   "cell_type": "code",
   "execution_count": 10,
   "id": "7ec5f09e",
   "metadata": {},
   "outputs": [
    {
     "data": {
      "text/plain": [
       "', but cricket favourite his hockey is mitzz not play'"
      ]
     },
     "execution_count": 10,
     "metadata": {},
     "output_type": "execute_result"
    }
   ],
   "source": [
    "word_sort('mitzz play cricket but cricket is not his favourite , his favourite is hockey')"
   ]
  },
  {
   "cell_type": "code",
   "execution_count": 11,
   "id": "5ce0033f",
   "metadata": {},
   "outputs": [
    {
     "data": {
      "text/plain": [
       "'again and hello makes perfect practice world'"
      ]
     },
     "execution_count": 11,
     "metadata": {},
     "output_type": "execute_result"
    }
   ],
   "source": [
    "word_sort('hello world and practice makes perfect and hello world again')"
   ]
  },
  {
   "cell_type": "markdown",
   "id": "67629542",
   "metadata": {},
   "source": [
    "Question5.\n",
    "Write a program that accepts a sentence and calculate the number of letters and digits.\n",
    "Suppose the following input is supplied to the program: hello world! 123\n",
    "Then, the output should be:\n",
    "LETTERS 10\n",
    "DIGITS 3"
   ]
  },
  {
   "cell_type": "code",
   "execution_count": 23,
   "id": "c54c6b92",
   "metadata": {},
   "outputs": [],
   "source": [
    "def fun1(string):\n",
    "    alphabets = 'ABCDEFGHIJKLMNOPQRSTUVWXYZabcdefghijklmnopqrstuvwxyz'\n",
    "    Numbers = '0123456789'\n",
    "    letter_count=0\n",
    "    digit_count=0\n",
    "    for i in string:\n",
    "        if i in alphabets:\n",
    "            letter_count=letter_count+1\n",
    "        if i in Numbers:\n",
    "            digit_count=digit_count+1\n",
    "    print('letters : ',letter_count)\n",
    "    print('digits :',digit_count)"
   ]
  },
  {
   "cell_type": "code",
   "execution_count": 24,
   "id": "02a32282",
   "metadata": {},
   "outputs": [
    {
     "name": "stdout",
     "output_type": "stream",
     "text": [
      "letters :  24\n",
      "digits : 5\n"
     ]
    }
   ],
   "source": [
    "fun1('he has 32 bicycle , 20 bikes and 4 cars')"
   ]
  },
  {
   "cell_type": "markdown",
   "id": "3e809a11",
   "metadata": {},
   "source": [
    "Question6.\n",
    "A website requires the users to input username and password to register. Write a program to check the validity of password input by users.\n",
    "Following are the criteria for checking the password:\n",
    "\n",
    "At least 1 letter between [a-z]\n",
    "At least 1 number between [0-9]\n",
    "At least 1 letter between [A-Z]\n",
    "At least 1 character from [$#@]\n",
    "Minimum length of transaction password: 6\n",
    "Maximum length of transaction password: 12\n",
    "Your program should accept a sequence of comma separated passwords and will check them according to the above criteria. Passwords that match the criteria are to be printed, each separated by a comma.\n",
    "\n",
    "Example:\n",
    "If the following passwords are given as input to the program: ABd1234@1,a F1#,2w3E*,2We3345\n",
    "Then, the output of the program should be:ABd1234@1"
   ]
  },
  {
   "cell_type": "code",
   "execution_count": 25,
   "id": "a8e951bb",
   "metadata": {},
   "outputs": [],
   "source": [
    "def password(string):\n",
    "    alpha1='abcdefghijklmnopqrstwxyz'\n",
    "    alpha2='ABCDEFGHIJKLMNOPQRSTWXYZ'\n",
    "    nums='0123456789'\n",
    "    spe_char='$#@'\n",
    "    lst=string.split(',')\n",
    "    for i in lst:\n",
    "        if len(i)>=6 and len(i)<=12:\n",
    "            if any(j.isupper() for j in i):\n",
    "                if any(j.islower() for j in i):\n",
    "                    if any(j for j in i if j in spe_char):\n",
    "                        print(i)\n",
    "    "
   ]
  },
  {
   "cell_type": "code",
   "execution_count": 26,
   "id": "9ddc4462",
   "metadata": {},
   "outputs": [
    {
     "name": "stdout",
     "output_type": "stream",
     "text": [
      "ABd1234@1\n"
     ]
    }
   ],
   "source": [
    "password('ABd1234@1,a F1#,2w3E*,2We3345')"
   ]
  }
 ],
 "metadata": {
  "kernelspec": {
   "display_name": "Python 3 (ipykernel)",
   "language": "python",
   "name": "python3"
  },
  "language_info": {
   "codemirror_mode": {
    "name": "ipython",
    "version": 3
   },
   "file_extension": ".py",
   "mimetype": "text/x-python",
   "name": "python",
   "nbconvert_exporter": "python",
   "pygments_lexer": "ipython3",
   "version": "3.9.12"
  }
 },
 "nbformat": 4,
 "nbformat_minor": 5
}
