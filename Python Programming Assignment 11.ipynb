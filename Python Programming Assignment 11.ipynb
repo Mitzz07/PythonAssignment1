{
 "cells": [
  {
   "cell_type": "code",
   "execution_count": 1,
   "id": "24ef77bc",
   "metadata": {},
   "outputs": [
    {
     "name": "stdout",
     "output_type": "stream",
     "text": [
      "Enter given length: 3\n",
      "list of the words is :  ['Is', 'this', 'a', 'real', 'estate', 'stock']\n",
      "this\n",
      "real\n",
      "estate\n",
      "stock\n"
     ]
    }
   ],
   "source": [
    "#Que1) Write a Python program to find words which are greater than given length k?\n",
    "\n",
    "k = int(input(\"Enter given length: \"))\n",
    "\n",
    "s= \"Is this a real estate stock\"\n",
    "w=s.split(\" \")\n",
    "print(\"list of the words is : \",w)\n",
    "for i in w:\n",
    "    if len(i)>k:\n",
    "        print(i)\n",
    "        "
   ]
  },
  {
   "cell_type": "code",
   "execution_count": 12,
   "id": "d8e59b97",
   "metadata": {},
   "outputs": [
    {
     "name": "stdout",
     "output_type": "stream",
     "text": [
      "Enter which index of char u wanna remove : 4\n",
      " Modrn\n"
     ]
    }
   ],
   "source": [
    "#Que2)  Write a Python program for removing i-th character from a string?\n",
    "\n",
    "String= \"Modern\"\n",
    "k=int(input(\"Enter which index of char u wanna remove : \"))\n",
    "\n",
    "New_String= \" \"\n",
    "for i in range(len(String)):\n",
    "    if i != k-1:\n",
    "        New_String = New_String + String[i]\n",
    "print(New_String)    \n",
    "    "
   ]
  },
  {
   "cell_type": "code",
   "execution_count": 22,
   "id": "0e1cdb47",
   "metadata": {},
   "outputs": [
    {
     "name": "stdout",
     "output_type": "stream",
     "text": [
      "After split operation :  ['I', 'believe', 'India', 'gonna', 'win', 'WC', '2023']\n",
      "After join operation I-believe-India-gonna-win-WC-2023\n"
     ]
    }
   ],
   "source": [
    "#Que3) Write a Python program to split and join a string?\n",
    "\n",
    "str= \"I believe India gonna win WC 2023\"\n",
    "\n",
    "#for split\n",
    "\n",
    "s=str.split()\n",
    "print(\"After split operation : \",s)\n",
    "\n",
    "#for join\n",
    "\n",
    "j='-'.join(str.split())\n",
    "print(\"After join operation\",j)"
   ]
  },
  {
   "cell_type": "code",
   "execution_count": 33,
   "id": "ef178719",
   "metadata": {},
   "outputs": [
    {
     "name": "stdout",
     "output_type": "stream",
     "text": [
      "Enter the string : 101001\n",
      "The String is not binary string\n"
     ]
    }
   ],
   "source": [
    "#Que4)  Write a Python to check if a given string is binary string or not?\n",
    "\n",
    "Str = input('Enter the string : ')\n",
    "b=(1,0)\n",
    "if i not in b:\n",
    "    print(\"The String is not binary string\")\n",
    "else :\n",
    "    print(\"The String is a binary string\")"
   ]
  },
  {
   "cell_type": "code",
   "execution_count": 34,
   "id": "9948e18e",
   "metadata": {},
   "outputs": [
    {
     "name": "stdout",
     "output_type": "stream",
     "text": [
      "{'likes', 'loves'}\n"
     ]
    }
   ],
   "source": [
    "#Que5)  Write a Python program to find uncommon words from two Strings?\n",
    "\n",
    "#by symmetric diff method \n",
    "\n",
    "s1= \"mitzz likes mangoes\"\n",
    "s2= \"mitzz loves mangoes\"\n",
    "\n",
    "s11=s1.split()\n",
    "s22=s2.split()\n",
    "\n",
    "x=set(s11).symmetric_difference(set(s22))\n",
    "print(x)\n"
   ]
  },
  {
   "cell_type": "code",
   "execution_count": 35,
   "id": "33f2b406",
   "metadata": {},
   "outputs": [
    {
     "name": "stdout",
     "output_type": "stream",
     "text": [
      "likes\n",
      "loves\n"
     ]
    }
   ],
   "source": [
    "#by iterative method\n",
    "\n",
    "s1= \"mitzz likes mangoes\"\n",
    "s2= \"mitzz loves mangoes\"\n",
    "\n",
    "s11=s1.split()\n",
    "s22=s2.split()\n",
    "\n",
    "UC_words=\" \"\n",
    "for i in s11:\n",
    "    if i not in s22:\n",
    "        print(i)\n",
    "for j in s22:\n",
    "    if j not in s11:\n",
    "        print(j)\n",
    "        "
   ]
  },
  {
   "cell_type": "code",
   "execution_count": 1,
   "id": "d0290a8e",
   "metadata": {},
   "outputs": [
    {
     "name": "stdout",
     "output_type": "stream",
     "text": [
      "h\n",
      "a\n",
      "k\n",
      ",\n",
      " \n",
      "t\n",
      "e\n",
      "i\n",
      "n\n",
      "o\n",
      "l\n"
     ]
    }
   ],
   "source": [
    "#Que6) Write a Python to find all duplicate characters in string?\n",
    "\n",
    "String= 'Sharukh, the king of bollywood, lives in Mannat'\n",
    "\n",
    "for i in range(0,len(String)):\n",
    "    count=1\n",
    "    for j in range(i+1, len(String)):\n",
    "        if (String[i]==String[j] and String[i]!= ''):\n",
    "            count=count+1\n",
    "            String= String[:j] +'0' + String[j+1:] \n",
    "    if (count > 1 and String[i] != '0'):  \n",
    "        print(String[i])"
   ]
  },
  {
   "cell_type": "code",
   "execution_count": 43,
   "id": "ef7ad9d6",
   "metadata": {},
   "outputs": [
    {
     "name": "stdout",
     "output_type": "stream",
     "text": [
      "Enter a string : ohdhqwodq&\n",
      "o\n",
      "h\n",
      "d\n",
      "h\n",
      "q\n",
      "w\n",
      "o\n",
      "d\n",
      "q\n"
     ]
    }
   ],
   "source": [
    "#Que7)  Write a Python Program to check if a string contains any special character?\n",
    "\n",
    "str= input(\"Enter a string : \")\n",
    "\n",
    "spe_char=\"`~!@#$%^&*(_)+=-]}{[\\|;:''\"\"?/.>,<\"\n",
    "\n",
    "for i in str:\n",
    "    if i not in spe_char:\n",
    "        print(\"\")\n",
    "    \n",
    "        "
   ]
  }
 ],
 "metadata": {
  "kernelspec": {
   "display_name": "Python 3 (ipykernel)",
   "language": "python",
   "name": "python3"
  },
  "language_info": {
   "codemirror_mode": {
    "name": "ipython",
    "version": 3
   },
   "file_extension": ".py",
   "mimetype": "text/x-python",
   "name": "python",
   "nbconvert_exporter": "python",
   "pygments_lexer": "ipython3",
   "version": "3.9.12"
  }
 },
 "nbformat": 4,
 "nbformat_minor": 5
}
