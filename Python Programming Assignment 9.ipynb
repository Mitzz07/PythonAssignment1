{
 "cells": [
  {
   "cell_type": "markdown",
   "id": "c2e63157",
   "metadata": {},
   "source": [
    "1.Write a Python Program to check if the given number is a Disarium Number ?"
   ]
  },
  {
   "cell_type": "code",
   "execution_count": 11,
   "id": "ef457abb",
   "metadata": {},
   "outputs": [],
   "source": [
    "def DisariumNum(num):\n",
    "    sum = 0\n",
    "    for i in range(len(num)):\n",
    "        sum = sum + int(num[i])**(i+1)\n",
    "    if sum == int(num):\n",
    "        print(num, 'is disarium')\n",
    "    else:\n",
    "        print(num, 'is not a disarium') "
   ]
  },
  {
   "cell_type": "code",
   "execution_count": 15,
   "id": "1e532023",
   "metadata": {},
   "outputs": [
    {
     "name": "stdout",
     "output_type": "stream",
     "text": [
      "135 is disarium\n"
     ]
    }
   ],
   "source": [
    "DisariumNum('135')"
   ]
  },
  {
   "cell_type": "markdown",
   "id": "50930ffa",
   "metadata": {},
   "source": [
    "2. Write a Python program to print all disarium numbers between 1 to 100?"
   ]
  },
  {
   "cell_type": "code",
   "execution_count": 16,
   "id": "7c790c11",
   "metadata": {},
   "outputs": [],
   "source": [
    "def DisariumNum1(start,end):\n",
    "    output= []\n",
    "    for i in range(start,end+1):\n",
    "        sum = 0\n",
    "        for j in range(len(str(i))):\n",
    "            sum = sum + int(str(i)[j])**(j+1)\n",
    "        if sum == i:\n",
    "            output.append(i)\n",
    "    return output\n",
    "            "
   ]
  },
  {
   "cell_type": "code",
   "execution_count": 17,
   "id": "a0598d05",
   "metadata": {},
   "outputs": [
    {
     "data": {
      "text/plain": [
       "[1, 2, 3, 4, 5, 6, 7, 8, 9, 89]"
      ]
     },
     "execution_count": 17,
     "metadata": {},
     "output_type": "execute_result"
    }
   ],
   "source": [
    "DisariumNum1(1,100)"
   ]
  },
  {
   "cell_type": "markdown",
   "id": "143e6d64",
   "metadata": {},
   "source": [
    "3.Write a Python Program to check if the given number is Happy Number ?"
   ]
  },
  {
   "cell_type": "code",
   "execution_count": 19,
   "id": "c5c713f1",
   "metadata": {},
   "outputs": [],
   "source": [
    "def HappyNumber(a):\n",
    "    b=a\n",
    "    trackNumber = set()   \n",
    "    while True:\n",
    "        if a != '1' and str(a) not in trackNumber:\n",
    "            trackNumber.add(a)\n",
    "            sum = 0\n",
    "            for i in range(len((a))):\n",
    "                sum = sum + int(a[i])**2\n",
    "            a = str(sum)\n",
    "        elif str(a) in trackNumber:\n",
    "            print(b,'is not a Happy Number')\n",
    "            break\n",
    "        else:\n",
    "            print( b,'is a Happy Number')\n",
    "            break"
   ]
  },
  {
   "cell_type": "code",
   "execution_count": 22,
   "id": "f2f27099",
   "metadata": {},
   "outputs": [
    {
     "name": "stdout",
     "output_type": "stream",
     "text": [
      "3 is not a Happy Number\n"
     ]
    }
   ],
   "source": [
    "HappyNumber('3')"
   ]
  },
  {
   "cell_type": "code",
   "execution_count": 23,
   "id": "187334a9",
   "metadata": {},
   "outputs": [
    {
     "name": "stdout",
     "output_type": "stream",
     "text": [
      "10 is a Happy Number\n"
     ]
    }
   ],
   "source": [
    "HappyNumber('10')"
   ]
  },
  {
   "cell_type": "markdown",
   "id": "1a050cd5",
   "metadata": {},
   "source": [
    "4.Write a Python Program to print all Happy numbers between 1 and 100 ?"
   ]
  },
  {
   "cell_type": "code",
   "execution_count": 27,
   "id": "b5fc36c6",
   "metadata": {},
   "outputs": [],
   "source": [
    "def HappyNumber1(start,end):\n",
    "    happyNumbersList = []\n",
    "    for i in range(start,end+1):\n",
    "        i = str(i)\n",
    "        inum_holder = i\n",
    "        trackNumber = set()   \n",
    "        while True:\n",
    "            if i != '1' and str(i) not in trackNumber:\n",
    "                trackNumber.add(i)\n",
    "                sum = 0\n",
    "                for j in range(len((i))):\n",
    "                    sum = sum + int(i[j])**2\n",
    "                i = str(sum)\n",
    "            elif str(i) in trackNumber:\n",
    "                break\n",
    "            else:\n",
    "                happyNumbersList.append(int(inum_holder))\n",
    "                break\n",
    "    print(happyNumbersList)\n",
    "    "
   ]
  },
  {
   "cell_type": "code",
   "execution_count": 28,
   "id": "eaf5b3f6",
   "metadata": {},
   "outputs": [
    {
     "name": "stdout",
     "output_type": "stream",
     "text": [
      "[1, 7, 10, 13, 19, 23, 28, 31, 32, 44, 49, 68, 70, 79, 82, 86, 91, 94, 97, 100]\n"
     ]
    }
   ],
   "source": [
    "HappyNumber1(0,100)"
   ]
  },
  {
   "cell_type": "markdown",
   "id": "2a3dfee6",
   "metadata": {},
   "source": [
    "5.Write a Python Program to determine whether the given number is a Harshad Number ?"
   ]
  },
  {
   "cell_type": "code",
   "execution_count": 29,
   "id": "1a2ed4da",
   "metadata": {},
   "outputs": [],
   "source": [
    "def HarshadNumber(num):\n",
    "    sum = 0\n",
    "    for i in range(len(num)):\n",
    "        sum = sum + int(num[i])\n",
    "    if int(num)%sum == 0:\n",
    "        print(num,' is a Harshad Number')\n",
    "    else:\n",
    "        print(num,'is a Not Harshad Number')"
   ]
  },
  {
   "cell_type": "code",
   "execution_count": 31,
   "id": "cc8e2891",
   "metadata": {},
   "outputs": [
    {
     "name": "stdout",
     "output_type": "stream",
     "text": [
      "20  is a Harshad Number\n"
     ]
    }
   ],
   "source": [
    "HarshadNumber('20')"
   ]
  },
  {
   "cell_type": "code",
   "execution_count": 32,
   "id": "90599b97",
   "metadata": {},
   "outputs": [
    {
     "name": "stdout",
     "output_type": "stream",
     "text": [
      "22 is a Not Harshad Number\n"
     ]
    }
   ],
   "source": [
    "HarshadNumber('22')"
   ]
  },
  {
   "cell_type": "markdown",
   "id": "c4c7e8dd",
   "metadata": {},
   "source": [
    "6.Write a Python Program to print all pronic numbers between 1 and 100 ?"
   ]
  },
  {
   "cell_type": "code",
   "execution_count": 33,
   "id": "f0d7df73",
   "metadata": {},
   "outputs": [],
   "source": [
    "def PronicNumbers(start,end):\n",
    "    output= []\n",
    "    for i in range(start,end+1):\n",
    "        output.append((i)*(i+1))\n",
    "    print(output)"
   ]
  },
  {
   "cell_type": "code",
   "execution_count": 34,
   "id": "ef40a151",
   "metadata": {},
   "outputs": [
    {
     "name": "stdout",
     "output_type": "stream",
     "text": [
      "[2, 6, 12, 20, 30, 42, 56, 72, 90, 110, 132, 156, 182, 210, 240, 272, 306, 342, 380, 420, 462, 506, 552, 600, 650, 702, 756, 812, 870, 930, 992, 1056, 1122, 1190, 1260, 1332, 1406, 1482, 1560, 1640, 1722, 1806, 1892, 1980, 2070, 2162, 2256, 2352, 2450, 2550, 2652, 2756, 2862, 2970, 3080, 3192, 3306, 3422, 3540, 3660, 3782, 3906, 4032, 4160, 4290, 4422, 4556, 4692, 4830, 4970, 5112, 5256, 5402, 5550, 5700, 5852, 6006, 6162, 6320, 6480, 6642, 6806, 6972, 7140, 7310, 7482, 7656, 7832, 8010, 8190, 8372, 8556, 8742, 8930, 9120, 9312, 9506, 9702, 9900, 10100]\n"
     ]
    }
   ],
   "source": [
    "PronicNumbers(1,100)"
   ]
  }
 ],
 "metadata": {
  "kernelspec": {
   "display_name": "Python 3 (ipykernel)",
   "language": "python",
   "name": "python3"
  },
  "language_info": {
   "codemirror_mode": {
    "name": "ipython",
    "version": 3
   },
   "file_extension": ".py",
   "mimetype": "text/x-python",
   "name": "python",
   "nbconvert_exporter": "python",
   "pygments_lexer": "ipython3",
   "version": "3.9.12"
  }
 },
 "nbformat": 4,
 "nbformat_minor": 5
}
