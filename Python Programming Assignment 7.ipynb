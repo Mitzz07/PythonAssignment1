{
 "cells": [
  {
   "cell_type": "code",
   "execution_count": 1,
   "id": "c9cf9b40",
   "metadata": {},
   "outputs": [
    {
     "name": "stdout",
     "output_type": "stream",
     "text": [
      "27\n"
     ]
    }
   ],
   "source": [
    "#Que1) Write a Python Program to find sum of array?\n",
    "\n",
    "arr=[1,2,3,4,5,6,6]\n",
    "\n",
    "a=len(arr)\n",
    "sum=0\n",
    "for i in range(0,a):\n",
    "    sum=sum+ arr[i]\n",
    "print(sum)    "
   ]
  },
  {
   "cell_type": "code",
   "execution_count": 13,
   "id": "99869dd1",
   "metadata": {},
   "outputs": [
    {
     "name": "stdout",
     "output_type": "stream",
     "text": [
      "54 is the largest element in the given array\n"
     ]
    }
   ],
   "source": [
    "#Que2) Write a Python Program to find largest element in an array?\n",
    "\n",
    "arr=[2,3,5,6,8,54,3,24,3,2,3,44,6,3]\n",
    "max = arr[0]\n",
    "\n",
    "for i in range(len(arr)):\n",
    "    if arr[i] > max:\n",
    "        max=arr[i]\n",
    "print(max, \"is the largest element in the given array\")        "
   ]
  },
  {
   "cell_type": "code",
   "execution_count": 1,
   "id": "a985b675",
   "metadata": {},
   "outputs": [],
   "source": [
    "#Que3)  Write a Python Program for array rotation?\n",
    "\n",
    "def rotateArray(arr,d):\n",
    "    l=[]\n",
    "    for i in range(d,len(arr)):\n",
    "        l.append(arr[i])\n",
    "    i=0\n",
    "    for i in range(0,d):\n",
    "        l.append(arr[i])\n",
    "    ra=l.copy()\n",
    "    return ra"
   ]
  },
  {
   "cell_type": "code",
   "execution_count": 3,
   "id": "e4fbd646",
   "metadata": {},
   "outputs": [
    {
     "name": "stdout",
     "output_type": "stream",
     "text": [
      "Rotated array is : \n",
      "[3, 4, 5, 6, 7, 8, 1, 2]\n"
     ]
    }
   ],
   "source": [
    "arr=[1,2,3,4,5,6,7,8]\n",
    "print(\"Rotated array is : \")\n",
    "print(rotateArray(arr,2))"
   ]
  },
  {
   "cell_type": "code",
   "execution_count": 4,
   "id": "3054ffa2",
   "metadata": {},
   "outputs": [
    {
     "name": "stdout",
     "output_type": "stream",
     "text": [
      "4 5 6 7 8 9 10 11 12 1 2 3 "
     ]
    }
   ],
   "source": [
    "#Que4) Write a Python Program to Split the array and add the first part to the end?\n",
    "\n",
    "\n",
    "def splitArr(arr, n, k):\n",
    "    for i in range(0, k):\n",
    "        x = arr[0]\n",
    "        for j in range(0, n-1):\n",
    "            arr[j] = arr[j + 1]\n",
    "\n",
    "        arr[n-1] = x\n",
    "\n",
    "arr = [1,2,3,4,5,6,7,8,9,10,11,12]\n",
    "n = len(arr)\n",
    "position = 3\n",
    "\n",
    "splitArr(arr, n, position)\n",
    "\n",
    "for i in range(0, n):\n",
    "    print(arr[i], end = ' ')"
   ]
  },
  {
   "cell_type": "code",
   "execution_count": 14,
   "id": "165a3df8",
   "metadata": {},
   "outputs": [],
   "source": [
    "#Que5) Write a Python Program to check if given array is Monotonic?\n",
    "\n",
    "def monotone(a):\n",
    "    n=len(a)\n",
    "    if n==1:\n",
    "        return True\n",
    "    else:\n",
    "        if all(a[i]>=a[i+1] for i in range(0,n-1) or a[i]<=a[i+1] for i in range(0,n-1)):\n",
    "            return True\n",
    "        else:\n",
    "            return False"
   ]
  },
  {
   "cell_type": "code",
   "execution_count": 15,
   "id": "5a549b46",
   "metadata": {},
   "outputs": [
    {
     "name": "stdout",
     "output_type": "stream",
     "text": [
      "False\n"
     ]
    }
   ],
   "source": [
    "A=[1,2,3,4,5]\n",
    "print(monotone(A))"
   ]
  },
  {
   "cell_type": "code",
   "execution_count": 12,
   "id": "9d863c2a",
   "metadata": {},
   "outputs": [
    {
     "name": "stdout",
     "output_type": "stream",
     "text": [
      "True\n"
     ]
    }
   ],
   "source": [
    "B=[5,4,3,2,1]\n",
    "print(monotone(B))"
   ]
  },
  {
   "cell_type": "code",
   "execution_count": 16,
   "id": "6fae9a43",
   "metadata": {},
   "outputs": [
    {
     "name": "stdout",
     "output_type": "stream",
     "text": [
      "True\n"
     ]
    }
   ],
   "source": [
    "C=[2]\n",
    "print(monotone(C))"
   ]
  },
  {
   "cell_type": "code",
   "execution_count": 17,
   "id": "adfbe6b3",
   "metadata": {},
   "outputs": [
    {
     "name": "stdout",
     "output_type": "stream",
     "text": [
      "False\n"
     ]
    }
   ],
   "source": [
    "D=[2,3,4,3,5,6]\n",
    "print(monotone(D))"
   ]
  }
 ],
 "metadata": {
  "kernelspec": {
   "display_name": "Python 3 (ipykernel)",
   "language": "python",
   "name": "python3"
  },
  "language_info": {
   "codemirror_mode": {
    "name": "ipython",
    "version": 3
   },
   "file_extension": ".py",
   "mimetype": "text/x-python",
   "name": "python",
   "nbconvert_exporter": "python",
   "pygments_lexer": "ipython3",
   "version": "3.9.12"
  }
 },
 "nbformat": 4,
 "nbformat_minor": 5
}
