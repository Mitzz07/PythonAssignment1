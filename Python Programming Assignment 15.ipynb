{
 "cells": [
  {
   "cell_type": "markdown",
   "id": "78031c14",
   "metadata": {},
   "source": [
    "Question1.\n",
    "Please write a program using generator to print the numbers which can be divisible by 5 and 7 between 0 and n in comma separated form while n is input by console ?\n",
    "Example:\n",
    "If the following n is given as input to the program: 100\n",
    "Then, the output of the program should be: 0,35,70"
   ]
  },
  {
   "cell_type": "code",
   "execution_count": 8,
   "id": "68e0afcd",
   "metadata": {},
   "outputs": [],
   "source": [
    "def divisible(num):\n",
    "    for i in range(1,num+1):\n",
    "        if (i % 5 == 0) and (i % 7 == 0):\n",
    "            yield i"
   ]
  },
  {
   "cell_type": "code",
   "execution_count": 9,
   "id": "5db67bcc",
   "metadata": {},
   "outputs": [
    {
     "name": "stdout",
     "output_type": "stream",
     "text": [
      "35,70,"
     ]
    }
   ],
   "source": [
    "for j in divisible(100):\n",
    "    print(j,end=',')"
   ]
  },
  {
   "cell_type": "markdown",
   "id": "4de2c8bb",
   "metadata": {},
   "source": [
    "Question2.\n",
    "Please write a program using generator to print the even numbers between 0 and n in comma separated form while n is input by console ?\n",
    "Example:\n",
    "If the following n is given as input to the program: 10\n",
    "Then, the output of the program should be: 0,2,4,6,8,10"
   ]
  },
  {
   "cell_type": "code",
   "execution_count": 10,
   "id": "6a205196",
   "metadata": {},
   "outputs": [],
   "source": [
    "def even_no(num):\n",
    "    for i in range(1,num+1):\n",
    "        if i % 2 == 0 :\n",
    "            yield i"
   ]
  },
  {
   "cell_type": "code",
   "execution_count": 12,
   "id": "72421bd6",
   "metadata": {},
   "outputs": [
    {
     "name": "stdout",
     "output_type": "stream",
     "text": [
      "2,4,6,8,10,"
     ]
    }
   ],
   "source": [
    "for j in even_no(10):\n",
    "    print(j , end=(','))"
   ]
  },
  {
   "cell_type": "markdown",
   "id": "65dbf173",
   "metadata": {},
   "source": [
    "Question3.\n",
    "The Fibonacci Sequence is computed based on the following formula below, Please write a program using list comprehension to print the Fibonacci Sequence in comma separated form with a given n input by console ?\n",
    "f(n)=0 if n=0 f(n)=1 if n=1 f(n)=f(n-1)+f(n-2) if n>1\n"
   ]
  },
  {
   "cell_type": "code",
   "execution_count": 13,
   "id": "b6141b85",
   "metadata": {},
   "outputs": [],
   "source": [
    "def fibo(n):\n",
    "    if n==0:\n",
    "        return 0\n",
    "    elif n==1 :\n",
    "        return 1\n",
    "    else :\n",
    "        return fibo(n-1) + fibo(n-2)"
   ]
  },
  {
   "cell_type": "code",
   "execution_count": 24,
   "id": "7b64ad8a",
   "metadata": {},
   "outputs": [
    {
     "name": "stdout",
     "output_type": "stream",
     "text": [
      "[0, 1, 1, 2, 3, 5, 8, 13, 21, 34]\n"
     ]
    }
   ],
   "source": [
    "l=[]\n",
    "for i in range(10):\n",
    "    l.append(fibo(i))\n",
    "print(l)"
   ]
  },
  {
   "cell_type": "markdown",
   "id": "6deff755",
   "metadata": {},
   "source": [
    "Question4.\n",
    "Assuming that we have some email addresses in the \"username@companyname.com\" format, please write program to print the user name of a given email address. Both user names and company names are composed of letters only ?\n",
    "Example:\n",
    "If the following email address is given as input to the program: john@google.com\n",
    "Then, the output of the program should be: john"
   ]
  },
  {
   "cell_type": "code",
   "execution_count": 38,
   "id": "0dda7264",
   "metadata": {},
   "outputs": [],
   "source": [
    "def mail_to_name(mail):\n",
    "    name = mail.split('@')\n",
    "    return name[0]        "
   ]
  },
  {
   "cell_type": "code",
   "execution_count": 39,
   "id": "a3ce3eb2",
   "metadata": {},
   "outputs": [
    {
     "data": {
      "text/plain": [
       "'sumitgawande'"
      ]
     },
     "execution_count": 39,
     "metadata": {},
     "output_type": "execute_result"
    }
   ],
   "source": [
    "mail_to_name('sumitgawande@gmail.com')"
   ]
  },
  {
   "cell_type": "markdown",
   "id": "c0d12aa9",
   "metadata": {},
   "source": [
    "Question5.\n",
    "Define a class named Shape and its subclass Square. The Square class has an init function which takes a length as argument. Both classes have a area function which can print the area of the shape where Shape's area is 0 by default."
   ]
  },
  {
   "cell_type": "code",
   "execution_count": 45,
   "id": "52d6769c",
   "metadata": {},
   "outputs": [],
   "source": [
    "class shape():\n",
    "    def area(self):\n",
    "        return 0\n",
    "    \n",
    "class square(shape):\n",
    "    def __init__(self,length):\n",
    "        self.length = length\n",
    "    \n",
    "    def area(self):\n",
    "        return self.length * self.length\n",
    "    "
   ]
  },
  {
   "cell_type": "code",
   "execution_count": 48,
   "id": "09fe9503",
   "metadata": {},
   "outputs": [
    {
     "name": "stdout",
     "output_type": "stream",
     "text": [
      "100\n"
     ]
    }
   ],
   "source": [
    "s = square(10)\n",
    "Area = s.area()\n",
    "print(Area)"
   ]
  }
 ],
 "metadata": {
  "kernelspec": {
   "display_name": "Python 3 (ipykernel)",
   "language": "python",
   "name": "python3"
  },
  "language_info": {
   "codemirror_mode": {
    "name": "ipython",
    "version": 3
   },
   "file_extension": ".py",
   "mimetype": "text/x-python",
   "name": "python",
   "nbconvert_exporter": "python",
   "pygments_lexer": "ipython3",
   "version": "3.9.12"
  }
 },
 "nbformat": 4,
 "nbformat_minor": 5
}
