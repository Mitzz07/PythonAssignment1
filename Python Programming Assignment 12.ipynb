{
 "cells": [
  {
   "cell_type": "code",
   "execution_count": 4,
   "id": "96561de1",
   "metadata": {},
   "outputs": [
    {
     "name": "stdout",
     "output_type": "stream",
     "text": [
      "dict_values(['modern', 'modern', 'BHU', 'Symbiosis', 'FC', 'FC', 'JNU'])\n",
      "Unique Values are : \n",
      "['modern', 'FC', 'Symbiosis', 'JNU', 'BHU']\n"
     ]
    }
   ],
   "source": [
    "#QUE 1. Write a Python program to Extract Unique values dictionary values?\n",
    "\n",
    "dict= {1: \"modern\",\"mitzz\":\"modern\", 2: \"BHU\",3: \"Symbiosis\",4: \"FC\", 5: \"FC\", 6:\"JNU\"}\n",
    "print(dict.values())\n",
    "\n",
    "print(\"Unique Values are : \")\n",
    "Set= set(dict.values())\n",
    "print(list(Set))"
   ]
  },
  {
   "cell_type": "code",
   "execution_count": 5,
   "id": "8a5bee2d",
   "metadata": {},
   "outputs": [
    {
     "name": "stdout",
     "output_type": "stream",
     "text": [
      "Sum of all the items in the Dict is :  52\n"
     ]
    }
   ],
   "source": [
    "#QUE 2. Write a Python program to find the sum of all items in a dictionary?\n",
    "\n",
    "Dict= {\"Mitzz\": 7, \"Mahi\": 7, \"Ronaldo\":7 , \"Messi\":10, \"Virat\":18,\"Raina\":3}\n",
    "\n",
    "print(\"Sum of all the items in the Dict is : \",sum(Dict.values()))"
   ]
  },
  {
   "cell_type": "code",
   "execution_count": 7,
   "id": "b7050385",
   "metadata": {},
   "outputs": [
    {
     "name": "stdout",
     "output_type": "stream",
     "text": [
      "{1: 'modern', 'mitzz': 'modern', 2: 'BHU', 'Mahi': 7, 'Ronaldo': 7, 'Messi': 10, 'Virat': 18, 'Raina': 3}\n"
     ]
    }
   ],
   "source": [
    "#QUE 3. Write a Python program to Merging two Dictionaries?\n",
    "\n",
    "dict= {1: \"modern\",\"mitzz\":\"modern\", 2: \"BHU\"}\n",
    "dict1={\"Mahi\": 7, \"Ronaldo\":7 , \"Messi\":10, \"Virat\":18,\"Raina\":3}\n",
    "\n",
    "dict.update(dict1)\n",
    "print(dict)"
   ]
  },
  {
   "cell_type": "code",
   "execution_count": 12,
   "id": "45d74e1e",
   "metadata": {},
   "outputs": [
    {
     "name": "stdout",
     "output_type": "stream",
     "text": [
      "{'A': 1, 'B': 2, 'C': 3, 'D': 4, 'E': 5}\n"
     ]
    }
   ],
   "source": [
    "#QUE 4. Write a Python program to convert key-values list to flat dictionary?\n",
    "\n",
    "list=[('A',1),('B',2),('C',3),('D',4),('E',5)]\n",
    "\n",
    "dict={}\n",
    "for i in list:\n",
    "    dict [i[0]]=i[1]\n",
    "print(dict)    "
   ]
  },
  {
   "cell_type": "code",
   "execution_count": 15,
   "id": "b943f58f",
   "metadata": {},
   "outputs": [
    {
     "name": "stdout",
     "output_type": "stream",
     "text": [
      "OrderedDict([('modern', 'shivajinagar'), ('FC', 'Deccan'), ('JNU', 'Delhi')])\n",
      "OrderedDict([('modern', 'shivajinagar'), ('FC', 'Deccan'), ('JNU', 'Delhi'), ('Symbiosis', 'SB road')])\n",
      "OrderedDict([('Symbiosis', 'SB road'), ('modern', 'shivajinagar'), ('FC', 'Deccan'), ('JNU', 'Delhi')])\n"
     ]
    }
   ],
   "source": [
    "#QUE 5. Write a Python program to insertion at the beginning in OrderedDict?\n",
    "\n",
    "from collections import OrderedDict\n",
    "\n",
    "dict_1 = OrderedDict({'modern':'shivajinagar','FC':'Deccan','JNU':'Delhi'})\n",
    "print (dict_1)\n",
    "dict_2 = {'Symbiosis':'SB road'}\n",
    "\n",
    "dict_1.update(dict_2)\n",
    "print(dict_1)\n",
    "\n",
    "dict_1.move_to_end('Symbiosis',last=False)\n",
    "print(dict_1)\n"
   ]
  },
  {
   "cell_type": "code",
   "execution_count": 16,
   "id": "7f5507cf",
   "metadata": {},
   "outputs": [],
   "source": [
    "#QUE 6. Write a Python program to check order of character in string using OrderedDict()?\n",
    "\n",
    "from collections import OrderedDict \n",
    "\n",
    "def Order(string, pattern): \n",
    "    dict = OrderedDict.fromkeys(string) \n",
    "    length = 0\n",
    "    for key,value in dict.items(): \n",
    "        if (key == pattern[length]): \n",
    "            lrngth = length + 1\n",
    "        if (length == (len(pattern))): \n",
    "            return 'Order is correct'\n",
    "    return 'Order is incorrect'\n"
   ]
  },
  {
   "cell_type": "code",
   "execution_count": 17,
   "id": "4286f11d",
   "metadata": {},
   "outputs": [
    {
     "name": "stdout",
     "output_type": "stream",
     "text": [
      "String is : life is a lie\n",
      "Pattern ia :  li\n"
     ]
    },
    {
     "data": {
      "text/plain": [
       "'Order is incorrect'"
      ]
     },
     "execution_count": 17,
     "metadata": {},
     "output_type": "execute_result"
    }
   ],
   "source": [
    "string= \"life is a lie\"\n",
    "pattern= \"li\"\n",
    "\n",
    "print('String is :',string)\n",
    "print('Pattern ia : ',pattern)\n",
    "Order(string,pattern)"
   ]
  },
  {
   "cell_type": "code",
   "execution_count": 117,
   "id": "613aae40",
   "metadata": {},
   "outputs": [
    {
     "name": "stdout",
     "output_type": "stream",
     "text": [
      "Object `Value` not found.\n"
     ]
    }
   ],
   "source": [
    "7. Write a Python program to sort Python Dictionaries by Key or Value?\n",
    "\n",
    "d= {\"Mitzz\": 7, \"Mahi\": 7, \"Ronaldo\":7 , \"Messi\":10, \"Virat\":18,\"Raina\":3}\n",
    "\n",
    "s=sorted(d.items())\n",
    "dict_SORTED={key:values for key,values in s}"
   ]
  },
  {
   "cell_type": "code",
   "execution_count": 118,
   "id": "8d1cdffd",
   "metadata": {},
   "outputs": [
    {
     "data": {
      "text/plain": [
       "{'Mahi': 7, 'Messi': 10, 'Mitzz': 7, 'Raina': 3, 'Ronaldo': 7, 'Virat': 18}"
      ]
     },
     "execution_count": 118,
     "metadata": {},
     "output_type": "execute_result"
    }
   ],
   "source": [
    "dict_SORTED"
   ]
  }
 ],
 "metadata": {
  "kernelspec": {
   "display_name": "Python 3 (ipykernel)",
   "language": "python",
   "name": "python3"
  },
  "language_info": {
   "codemirror_mode": {
    "name": "ipython",
    "version": 3
   },
   "file_extension": ".py",
   "mimetype": "text/x-python",
   "name": "python",
   "nbconvert_exporter": "python",
   "pygments_lexer": "ipython3",
   "version": "3.9.12"
  }
 },
 "nbformat": 4,
 "nbformat_minor": 5
}
